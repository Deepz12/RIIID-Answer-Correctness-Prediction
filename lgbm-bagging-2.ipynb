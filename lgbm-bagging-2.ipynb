{
 "cells": [
  {
   "cell_type": "code",
   "execution_count": 1,
   "metadata": {
    "_cell_guid": "b1076dfc-b9ad-4769-8c92-a6c4dae69d19",
    "_uuid": "8f2839f25d086af736a60e9eeb907d3b93b6e0e5",
    "execution": {
     "iopub.execute_input": "2021-01-07T14:09:42.319224Z",
     "iopub.status.busy": "2021-01-07T14:09:42.318524Z",
     "iopub.status.idle": "2021-01-07T14:10:13.303373Z",
     "shell.execute_reply": "2021-01-07T14:10:13.302559Z"
    },
    "papermill": {
     "duration": 31.043886,
     "end_time": "2021-01-07T14:10:13.303532",
     "exception": false,
     "start_time": "2021-01-07T14:09:42.259646",
     "status": "completed"
    },
    "tags": []
   },
   "outputs": [],
   "source": [
    "!pip install ../input/python-datatable/datatable-0.11.0-cp37-cp37m-manylinux2010_x86_64.whl > /dev/null 2>&1"
   ]
  },
  {
   "cell_type": "code",
   "execution_count": 2,
   "metadata": {
    "execution": {
     "iopub.execute_input": "2021-01-07T14:10:13.409929Z",
     "iopub.status.busy": "2021-01-07T14:10:13.409137Z",
     "iopub.status.idle": "2021-01-07T14:10:13.656157Z",
     "shell.execute_reply": "2021-01-07T14:10:13.655485Z"
    },
    "papermill": {
     "duration": 0.303273,
     "end_time": "2021-01-07T14:10:13.656314",
     "exception": false,
     "start_time": "2021-01-07T14:10:13.353041",
     "status": "completed"
    },
    "tags": []
   },
   "outputs": [],
   "source": [
    "import numpy as np\n",
    "import random\n",
    "import pandas as pd\n",
    "import joblib"
   ]
  },
  {
   "cell_type": "code",
   "execution_count": 3,
   "metadata": {
    "_cell_guid": "79c7e3d0-c299-4dcb-8224-4455121ee9b0",
    "_uuid": "d629ff2d2480ee46fbb7e2d37f6b5fab8052498a",
    "execution": {
     "iopub.execute_input": "2021-01-07T14:10:13.762343Z",
     "iopub.status.busy": "2021-01-07T14:10:13.761582Z",
     "iopub.status.idle": "2021-01-07T14:10:14.941970Z",
     "shell.execute_reply": "2021-01-07T14:10:14.941199Z"
    },
    "papermill": {
     "duration": 1.236594,
     "end_time": "2021-01-07T14:10:14.942135",
     "exception": false,
     "start_time": "2021-01-07T14:10:13.705541",
     "status": "completed"
    },
    "tags": []
   },
   "outputs": [
    {
     "data": {
      "text/html": [
       "<style type='text/css'>\n",
       ".datatable table.frame { margin-bottom: 0; }\n",
       ".datatable table.frame thead { border-bottom: none; }\n",
       ".datatable table.frame tr.coltypes td {  color: #FFFFFF;  line-height: 6px;  padding: 0 0.5em;}\n",
       ".datatable .bool    { background: #DDDD99; }\n",
       ".datatable .object  { background: #565656; }\n",
       ".datatable .int     { background: #5D9E5D; }\n",
       ".datatable .float   { background: #4040CC; }\n",
       ".datatable .str     { background: #CC4040; }\n",
       ".datatable .row_index {  background: var(--jp-border-color3);  border-right: 1px solid var(--jp-border-color0);  color: var(--jp-ui-font-color3);  font-size: 9px;}\n",
       ".datatable .frame tr.coltypes .row_index {  background: var(--jp-border-color0);}\n",
       ".datatable th:nth-child(2) { padding-left: 12px; }\n",
       ".datatable .hellipsis {  color: var(--jp-cell-editor-border-color);}\n",
       ".datatable .vellipsis {  background: var(--jp-layout-color0);  color: var(--jp-cell-editor-border-color);}\n",
       ".datatable .na {  color: var(--jp-cell-editor-border-color);  font-size: 80%;}\n",
       ".datatable .footer { font-size: 9px; }\n",
       ".datatable .frame_dimensions {  background: var(--jp-border-color3);  border-top: 1px solid var(--jp-border-color0);  color: var(--jp-ui-font-color3);  display: inline-block;  opacity: 0.6;  padding: 1px 10px 1px 5px;}\n",
       "</style>\n"
      ],
      "text/plain": [
       "<IPython.core.display.HTML object>"
      ]
     },
     "metadata": {},
     "output_type": "display_data"
    }
   ],
   "source": [
    "from collections import defaultdict\n",
    "import datatable as dt\n",
    "import lightgbm as lgb\n",
    "from matplotlib import pyplot as plt\n",
    "import riiideducation\n",
    "from sklearn.metrics import roc_auc_score\n",
    "import gc\n",
    "\n",
    "_ = np.seterr(divide='ignore', invalid='ignore')"
   ]
  },
  {
   "cell_type": "code",
   "execution_count": 4,
   "metadata": {
    "execution": {
     "iopub.execute_input": "2021-01-07T14:10:15.054154Z",
     "iopub.status.busy": "2021-01-07T14:10:15.053379Z",
     "iopub.status.idle": "2021-01-07T14:10:15.056410Z",
     "shell.execute_reply": "2021-01-07T14:10:15.055784Z"
    },
    "papermill": {
     "duration": 0.061338,
     "end_time": "2021-01-07T14:10:15.056551",
     "exception": false,
     "start_time": "2021-01-07T14:10:14.995213",
     "status": "completed"
    },
    "tags": []
   },
   "outputs": [],
   "source": [
    "data_types_dict = {\n",
    "    'timestamp': 'int64',\n",
    "    'user_id': 'int32', \n",
    "    'content_id': 'int16', \n",
    "    'content_type_id':'int8', \n",
    "    'task_container_id': 'int16',\n",
    "    'answered_correctly': 'int8', \n",
    "    'prior_question_elapsed_time': 'float32', \n",
    "    'prior_question_had_explanation': 'bool'\n",
    "}\n",
    "target = 'answered_correctly'"
   ]
  },
  {
   "cell_type": "code",
   "execution_count": 5,
   "metadata": {
    "execution": {
     "iopub.execute_input": "2021-01-07T14:10:15.162775Z",
     "iopub.status.busy": "2021-01-07T14:10:15.161967Z",
     "iopub.status.idle": "2021-01-07T14:11:41.748963Z",
     "shell.execute_reply": "2021-01-07T14:11:41.748083Z"
    },
    "papermill": {
     "duration": 86.640479,
     "end_time": "2021-01-07T14:11:41.749133",
     "exception": false,
     "start_time": "2021-01-07T14:10:15.108654",
     "status": "completed"
    },
    "tags": []
   },
   "outputs": [],
   "source": [
    "train_df = dt.fread('../input/riiid-test-answer-prediction/train.csv', columns=set(data_types_dict.keys())).to_pandas()"
   ]
  },
  {
   "cell_type": "code",
   "execution_count": 6,
   "metadata": {
    "execution": {
     "iopub.execute_input": "2021-01-07T14:11:41.862940Z",
     "iopub.status.busy": "2021-01-07T14:11:41.862216Z",
     "iopub.status.idle": "2021-01-07T14:11:41.872929Z",
     "shell.execute_reply": "2021-01-07T14:11:41.872170Z"
    },
    "papermill": {
     "duration": 0.071323,
     "end_time": "2021-01-07T14:11:41.873063",
     "exception": false,
     "start_time": "2021-01-07T14:11:41.801740",
     "status": "completed"
    },
    "tags": []
   },
   "outputs": [],
   "source": [
    "lectures_df = pd.read_csv('/kaggle/input/riiid-test-answer-prediction/lectures.csv')"
   ]
  },
  {
   "cell_type": "code",
   "execution_count": 7,
   "metadata": {
    "execution": {
     "iopub.execute_input": "2021-01-07T14:11:41.976853Z",
     "iopub.status.busy": "2021-01-07T14:11:41.976120Z",
     "iopub.status.idle": "2021-01-07T14:11:42.003020Z",
     "shell.execute_reply": "2021-01-07T14:11:42.003560Z"
    },
    "papermill": {
     "duration": 0.080212,
     "end_time": "2021-01-07T14:11:42.003724",
     "exception": false,
     "start_time": "2021-01-07T14:11:41.923512",
     "status": "completed"
    },
    "tags": []
   },
   "outputs": [],
   "source": [
    "lectures_df['type_of'] = lectures_df['type_of'].replace('solving question', 'solving_question')\n",
    "\n",
    "lectures_df = pd.get_dummies(lectures_df, columns=['part', 'type_of'])\n",
    "\n",
    "part_lectures_columns = [column for column in lectures_df.columns if column.startswith('part')]\n",
    "\n",
    "types_of_lectures_columns = [column for column in lectures_df.columns if column.startswith('type_of_')]"
   ]
  },
  {
   "cell_type": "code",
   "execution_count": 8,
   "metadata": {
    "execution": {
     "iopub.execute_input": "2021-01-07T14:11:42.111084Z",
     "iopub.status.busy": "2021-01-07T14:11:42.110130Z",
     "iopub.status.idle": "2021-01-07T14:11:43.241635Z",
     "shell.execute_reply": "2021-01-07T14:11:43.241001Z"
    },
    "papermill": {
     "duration": 1.187922,
     "end_time": "2021-01-07T14:11:43.241757",
     "exception": false,
     "start_time": "2021-01-07T14:11:42.053835",
     "status": "completed"
    },
    "tags": []
   },
   "outputs": [],
   "source": [
    "train_lectures = train_df[train_df.content_type_id == True].merge(lectures_df, left_on='content_id', right_on='lecture_id', how='left')"
   ]
  },
  {
   "cell_type": "code",
   "execution_count": 9,
   "metadata": {
    "execution": {
     "iopub.execute_input": "2021-01-07T14:11:43.352799Z",
     "iopub.status.busy": "2021-01-07T14:11:43.351235Z",
     "iopub.status.idle": "2021-01-07T14:11:43.722221Z",
     "shell.execute_reply": "2021-01-07T14:11:43.721529Z"
    },
    "papermill": {
     "duration": 0.430347,
     "end_time": "2021-01-07T14:11:43.722359",
     "exception": false,
     "start_time": "2021-01-07T14:11:43.292012",
     "status": "completed"
    },
    "tags": []
   },
   "outputs": [],
   "source": [
    "user_lecture_stats_part = train_lectures.groupby('user_id',as_index = False)[part_lectures_columns + types_of_lectures_columns].sum()"
   ]
  },
  {
   "cell_type": "code",
   "execution_count": 10,
   "metadata": {
    "execution": {
     "iopub.execute_input": "2021-01-07T14:11:43.831892Z",
     "iopub.status.busy": "2021-01-07T14:11:43.830783Z",
     "iopub.status.idle": "2021-01-07T14:11:43.840581Z",
     "shell.execute_reply": "2021-01-07T14:11:43.839865Z"
    },
    "papermill": {
     "duration": 0.067751,
     "end_time": "2021-01-07T14:11:43.840714",
     "exception": false,
     "start_time": "2021-01-07T14:11:43.772963",
     "status": "completed"
    },
    "tags": []
   },
   "outputs": [],
   "source": [
    "lecturedata_types_dict = {   \n",
    "    'user_id': 'int32', \n",
    "    'part_1': 'int8',\n",
    "    'part_2': 'int8',\n",
    "    'part_3': 'int8',\n",
    "    'part_4': 'int8',\n",
    "    'part_5': 'int8',\n",
    "    'part_6': 'int8',\n",
    "    'part_7': 'int8',\n",
    "    'type_of_concept': 'int8',\n",
    "    'type_of_intention': 'int8',\n",
    "    'type_of_solving_question': 'int8',\n",
    "    'type_of_starter': 'int8'\n",
    "}\n",
    "user_lecture_stats_part = user_lecture_stats_part.astype(lecturedata_types_dict)"
   ]
  },
  {
   "cell_type": "code",
   "execution_count": 11,
   "metadata": {
    "execution": {
     "iopub.execute_input": "2021-01-07T14:11:43.948794Z",
     "iopub.status.busy": "2021-01-07T14:11:43.947498Z",
     "iopub.status.idle": "2021-01-07T14:11:43.959525Z",
     "shell.execute_reply": "2021-01-07T14:11:43.958728Z"
    },
    "papermill": {
     "duration": 0.067912,
     "end_time": "2021-01-07T14:11:43.959700",
     "exception": false,
     "start_time": "2021-01-07T14:11:43.891788",
     "status": "completed"
    },
    "tags": []
   },
   "outputs": [],
   "source": [
    "for column in user_lecture_stats_part.columns:\n",
    "    if(column !='user_id'):\n",
    "        user_lecture_stats_part[column] = (user_lecture_stats_part[column] > 0).astype('int8')"
   ]
  },
  {
   "cell_type": "code",
   "execution_count": 12,
   "metadata": {
    "execution": {
     "iopub.execute_input": "2021-01-07T14:11:44.175133Z",
     "iopub.status.busy": "2021-01-07T14:11:44.174286Z",
     "iopub.status.idle": "2021-01-07T14:11:44.178521Z",
     "shell.execute_reply": "2021-01-07T14:11:44.177992Z"
    },
    "papermill": {
     "duration": 0.164315,
     "end_time": "2021-01-07T14:11:44.178643",
     "exception": false,
     "start_time": "2021-01-07T14:11:44.014328",
     "status": "completed"
    },
    "tags": []
   },
   "outputs": [
    {
     "data": {
      "text/plain": [
       "60"
      ]
     },
     "execution_count": 12,
     "metadata": {},
     "output_type": "execute_result"
    }
   ],
   "source": [
    "del(train_lectures)\n",
    "gc.collect()"
   ]
  },
  {
   "cell_type": "code",
   "execution_count": 13,
   "metadata": {
    "execution": {
     "iopub.execute_input": "2021-01-07T14:11:44.291579Z",
     "iopub.status.busy": "2021-01-07T14:11:44.290771Z",
     "iopub.status.idle": "2021-01-07T14:11:48.397674Z",
     "shell.execute_reply": "2021-01-07T14:11:48.396997Z"
    },
    "papermill": {
     "duration": 4.169165,
     "end_time": "2021-01-07T14:11:48.397828",
     "exception": false,
     "start_time": "2021-01-07T14:11:44.228663",
     "status": "completed"
    },
    "tags": []
   },
   "outputs": [],
   "source": [
    "user_lecture_agg = train_df.groupby('user_id')['content_type_id'].agg(['sum', 'count'])\n",
    "user_lecture_agg=user_lecture_agg.astype('int16')"
   ]
  },
  {
   "cell_type": "code",
   "execution_count": 14,
   "metadata": {
    "execution": {
     "iopub.execute_input": "2021-01-07T14:11:48.509216Z",
     "iopub.status.busy": "2021-01-07T14:11:48.508480Z",
     "iopub.status.idle": "2021-01-07T14:12:03.301921Z",
     "shell.execute_reply": "2021-01-07T14:12:03.300943Z"
    },
    "papermill": {
     "duration": 14.852969,
     "end_time": "2021-01-07T14:12:03.302133",
     "exception": false,
     "start_time": "2021-01-07T14:11:48.449164",
     "status": "completed"
    },
    "tags": []
   },
   "outputs": [],
   "source": [
    "cum = train_df.groupby('user_id')['content_type_id'].agg(['cumsum', 'cumcount'])\n",
    "cum['cumcount']=cum['cumcount']+1\n",
    "train_df['user_interaction_count'] = cum['cumcount'] \n",
    "train_df['user_interaction_timestamp_mean'] = train_df['timestamp']/cum['cumcount'] \n",
    "train_df['user_lecture_sum'] = cum['cumsum'] \n",
    "train_df['user_lecture_lv'] = cum['cumsum'] / cum['cumcount']\n",
    "\n",
    "train_df.user_lecture_lv=train_df.user_lecture_lv.astype('float16')\n",
    "train_df.user_lecture_sum=train_df.user_lecture_sum.astype('int16')\n",
    "train_df.user_interaction_count=train_df.user_interaction_count.astype('int16')\n",
    "train_df['user_interaction_timestamp_mean']=train_df['user_interaction_timestamp_mean']/(1000*3600)\n",
    "train_df.user_interaction_timestamp_mean=train_df.user_interaction_timestamp_mean.astype('float32')"
   ]
  },
  {
   "cell_type": "code",
   "execution_count": 15,
   "metadata": {
    "execution": {
     "iopub.execute_input": "2021-01-07T14:12:03.574842Z",
     "iopub.status.busy": "2021-01-07T14:12:03.442336Z",
     "iopub.status.idle": "2021-01-07T14:12:03.578768Z",
     "shell.execute_reply": "2021-01-07T14:12:03.579350Z"
    },
    "papermill": {
     "duration": 0.212,
     "end_time": "2021-01-07T14:12:03.579563",
     "exception": false,
     "start_time": "2021-01-07T14:12:03.367563",
     "status": "completed"
    },
    "tags": []
   },
   "outputs": [
    {
     "data": {
      "text/plain": [
       "77"
      ]
     },
     "execution_count": 15,
     "metadata": {},
     "output_type": "execute_result"
    }
   ],
   "source": [
    "del cum\n",
    "gc.collect()"
   ]
  },
  {
   "cell_type": "code",
   "execution_count": 16,
   "metadata": {
    "execution": {
     "iopub.execute_input": "2021-01-07T14:12:03.710994Z",
     "iopub.status.busy": "2021-01-07T14:12:03.710115Z",
     "iopub.status.idle": "2021-01-07T14:12:32.565856Z",
     "shell.execute_reply": "2021-01-07T14:12:32.565065Z"
    },
    "papermill": {
     "duration": 28.918866,
     "end_time": "2021-01-07T14:12:32.566045",
     "exception": false,
     "start_time": "2021-01-07T14:12:03.647179",
     "status": "completed"
    },
    "tags": []
   },
   "outputs": [],
   "source": [
    "train_df['prior_question_had_explanation'].fillna(False, inplace=True)\n",
    "train_df = train_df.astype(data_types_dict)\n",
    "train_df = train_df[train_df[target] != -1].reset_index(drop=True)"
   ]
  },
  {
   "cell_type": "code",
   "execution_count": 17,
   "metadata": {
    "execution": {
     "iopub.execute_input": "2021-01-07T14:12:33.197130Z",
     "iopub.status.busy": "2021-01-07T14:12:33.195991Z",
     "iopub.status.idle": "2021-01-07T14:12:40.267167Z",
     "shell.execute_reply": "2021-01-07T14:12:40.266437Z"
    },
    "papermill": {
     "duration": 7.647211,
     "end_time": "2021-01-07T14:12:40.267310",
     "exception": false,
     "start_time": "2021-01-07T14:12:32.620099",
     "status": "completed"
    },
    "tags": []
   },
   "outputs": [],
   "source": [
    "content_explation_agg=train_df[[\"content_id\",\"prior_question_had_explanation\",target]].groupby([\"content_id\",\"prior_question_had_explanation\"])[target].agg(['mean'])"
   ]
  },
  {
   "cell_type": "code",
   "execution_count": 18,
   "metadata": {
    "execution": {
     "iopub.execute_input": "2021-01-07T14:12:40.382775Z",
     "iopub.status.busy": "2021-01-07T14:12:40.381922Z",
     "iopub.status.idle": "2021-01-07T14:12:40.403952Z",
     "shell.execute_reply": "2021-01-07T14:12:40.403266Z"
    },
    "papermill": {
     "duration": 0.083805,
     "end_time": "2021-01-07T14:12:40.404103",
     "exception": false,
     "start_time": "2021-01-07T14:12:40.320298",
     "status": "completed"
    },
    "tags": []
   },
   "outputs": [],
   "source": [
    "content_explation_agg=content_explation_agg.unstack()\n",
    "\n",
    "content_explation_agg=content_explation_agg.reset_index()\n",
    "content_explation_agg.columns = ['content_id', 'content_explation_false_mean','content_explation_true_mean']"
   ]
  },
  {
   "cell_type": "code",
   "execution_count": 19,
   "metadata": {
    "execution": {
     "iopub.execute_input": "2021-01-07T14:12:40.516885Z",
     "iopub.status.busy": "2021-01-07T14:12:40.516053Z",
     "iopub.status.idle": "2021-01-07T14:12:40.519931Z",
     "shell.execute_reply": "2021-01-07T14:12:40.520514Z"
    },
    "papermill": {
     "duration": 0.064413,
     "end_time": "2021-01-07T14:12:40.520681",
     "exception": false,
     "start_time": "2021-01-07T14:12:40.456268",
     "status": "completed"
    },
    "tags": []
   },
   "outputs": [],
   "source": [
    "content_explation_agg.content_id=content_explation_agg.content_id.astype('int16')\n",
    "content_explation_agg.content_explation_false_mean=content_explation_agg.content_explation_false_mean.astype('float16')\n",
    "content_explation_agg.content_explation_true_mean=content_explation_agg.content_explation_true_mean.astype('float16')"
   ]
  },
  {
   "cell_type": "code",
   "execution_count": 20,
   "metadata": {
    "execution": {
     "iopub.execute_input": "2021-01-07T14:12:40.630055Z",
     "iopub.status.busy": "2021-01-07T14:12:40.629294Z",
     "iopub.status.idle": "2021-01-07T14:14:43.221582Z",
     "shell.execute_reply": "2021-01-07T14:14:43.220798Z"
    },
    "papermill": {
     "duration": 122.648303,
     "end_time": "2021-01-07T14:14:43.221726",
     "exception": false,
     "start_time": "2021-01-07T14:12:40.573423",
     "status": "completed"
    },
    "tags": []
   },
   "outputs": [],
   "source": [
    "train_df[\"attempt_no\"] = 1\n",
    "train_df.attempt_no=train_df.attempt_no.astype('int8')\n",
    "\n",
    "attempt_no_agg=train_df.groupby([\"user_id\",\"content_id\"])[\"attempt_no\"].agg(['sum']).astype('int8')\n",
    "\n",
    "train_df[\"attempt_no\"] = train_df[[\"user_id\",\"content_id\",'attempt_no']].groupby([\"user_id\",\"content_id\"])[\"attempt_no\"].cumsum()"
   ]
  },
  {
   "cell_type": "code",
   "execution_count": 21,
   "metadata": {
    "execution": {
     "iopub.execute_input": "2021-01-07T14:14:43.336581Z",
     "iopub.status.busy": "2021-01-07T14:14:43.335825Z",
     "iopub.status.idle": "2021-01-07T14:14:43.750935Z",
     "shell.execute_reply": "2021-01-07T14:14:43.750134Z"
    },
    "papermill": {
     "duration": 0.47331,
     "end_time": "2021-01-07T14:14:43.751067",
     "exception": false,
     "start_time": "2021-01-07T14:14:43.277757",
     "status": "completed"
    },
    "tags": []
   },
   "outputs": [],
   "source": [
    "attempt_no_agg=attempt_no_agg[attempt_no_agg['sum'] >1]"
   ]
  },
  {
   "cell_type": "code",
   "execution_count": 22,
   "metadata": {
    "execution": {
     "iopub.execute_input": "2021-01-07T14:14:43.863874Z",
     "iopub.status.busy": "2021-01-07T14:14:43.862704Z",
     "iopub.status.idle": "2021-01-07T14:14:44.165015Z",
     "shell.execute_reply": "2021-01-07T14:14:44.165594Z"
    },
    "papermill": {
     "duration": 0.362104,
     "end_time": "2021-01-07T14:14:44.165770",
     "exception": false,
     "start_time": "2021-01-07T14:14:43.803666",
     "status": "completed"
    },
    "tags": []
   },
   "outputs": [
    {
     "name": "stdout",
     "output_type": "stream",
     "text": [
      "start handle timestamp...\n"
     ]
    }
   ],
   "source": [
    "print('start handle timestamp...')\n",
    "prior_question_elapsed_time_mean=train_df['prior_question_elapsed_time'].mean()\n",
    "train_df['prior_question_elapsed_time'].fillna(prior_question_elapsed_time_mean, inplace=True)"
   ]
  },
  {
   "cell_type": "code",
   "execution_count": 23,
   "metadata": {
    "execution": {
     "iopub.execute_input": "2021-01-07T14:14:44.277916Z",
     "iopub.status.busy": "2021-01-07T14:14:44.276770Z",
     "iopub.status.idle": "2021-01-07T14:14:47.984749Z",
     "shell.execute_reply": "2021-01-07T14:14:47.982943Z"
    },
    "papermill": {
     "duration": 3.765971,
     "end_time": "2021-01-07T14:14:47.984934",
     "exception": false,
     "start_time": "2021-01-07T14:14:44.218963",
     "status": "completed"
    },
    "tags": []
   },
   "outputs": [],
   "source": [
    "max_timestamp_u = train_df[['user_id','timestamp']].groupby(['user_id']).agg(['max']).reset_index()\n",
    "max_timestamp_u.columns = ['user_id', 'max_time_stamp']\n",
    "max_timestamp_u.user_id=max_timestamp_u.user_id.astype('int32')"
   ]
  },
  {
   "cell_type": "code",
   "execution_count": 24,
   "metadata": {
    "execution": {
     "iopub.execute_input": "2021-01-07T14:14:48.102163Z",
     "iopub.status.busy": "2021-01-07T14:14:48.101381Z",
     "iopub.status.idle": "2021-01-07T14:14:55.805189Z",
     "shell.execute_reply": "2021-01-07T14:14:55.804478Z"
    },
    "papermill": {
     "duration": 7.765866,
     "end_time": "2021-01-07T14:14:55.805340",
     "exception": false,
     "start_time": "2021-01-07T14:14:48.039474",
     "status": "completed"
    },
    "tags": []
   },
   "outputs": [],
   "source": [
    "\n",
    "train_df['lagtime'] = train_df.groupby('user_id')['timestamp'].shift()\n",
    "\n",
    "max_timestamp_u2 = train_df[['user_id','lagtime']].groupby(['user_id']).agg(['max']).reset_index()\n",
    "max_timestamp_u2.columns = ['user_id', 'max_time_stamp2']\n",
    "max_timestamp_u2.user_id=max_timestamp_u2.user_id.astype('int32')"
   ]
  },
  {
   "cell_type": "code",
   "execution_count": 25,
   "metadata": {
    "execution": {
     "iopub.execute_input": "2021-01-07T14:14:55.930237Z",
     "iopub.status.busy": "2021-01-07T14:14:55.928894Z",
     "iopub.status.idle": "2021-01-07T14:14:56.938512Z",
     "shell.execute_reply": "2021-01-07T14:14:56.937912Z"
    },
    "papermill": {
     "duration": 1.080214,
     "end_time": "2021-01-07T14:14:56.938641",
     "exception": false,
     "start_time": "2021-01-07T14:14:55.858427",
     "status": "completed"
    },
    "tags": []
   },
   "outputs": [],
   "source": [
    "train_df['lagtime']=train_df['timestamp']-train_df['lagtime']\n",
    "lagtime_mean=train_df['lagtime'].mean()\n",
    "train_df['lagtime'].fillna(lagtime_mean, inplace=True)"
   ]
  },
  {
   "cell_type": "code",
   "execution_count": 26,
   "metadata": {
    "execution": {
     "iopub.execute_input": "2021-01-07T14:14:57.067567Z",
     "iopub.status.busy": "2021-01-07T14:14:57.066135Z",
     "iopub.status.idle": "2021-01-07T14:14:58.151761Z",
     "shell.execute_reply": "2021-01-07T14:14:58.150899Z"
    },
    "papermill": {
     "duration": 1.159305,
     "end_time": "2021-01-07T14:14:58.151927",
     "exception": false,
     "start_time": "2021-01-07T14:14:56.992622",
     "status": "completed"
    },
    "tags": []
   },
   "outputs": [],
   "source": [
    "train_df['lagtime']=train_df['lagtime']/(1000*3600)\n",
    "train_df.lagtime=train_df.lagtime.astype('float32')"
   ]
  },
  {
   "cell_type": "code",
   "execution_count": 27,
   "metadata": {
    "execution": {
     "iopub.execute_input": "2021-01-07T14:14:58.282580Z",
     "iopub.status.busy": "2021-01-07T14:14:58.281695Z",
     "iopub.status.idle": "2021-01-07T14:15:08.697616Z",
     "shell.execute_reply": "2021-01-07T14:15:08.696845Z"
    },
    "papermill": {
     "duration": 10.485221,
     "end_time": "2021-01-07T14:15:08.697779",
     "exception": false,
     "start_time": "2021-01-07T14:14:58.212558",
     "status": "completed"
    },
    "tags": []
   },
   "outputs": [],
   "source": [
    "\n",
    "train_df['lagtime2'] = train_df.groupby('user_id')['timestamp'].shift(2)\n",
    "\n",
    "max_timestamp_u3 = train_df[['user_id','lagtime2']].groupby(['user_id']).agg(['max']).reset_index()\n",
    "max_timestamp_u3.columns = ['user_id', 'max_time_stamp3']\n",
    "max_timestamp_u3.user_id=max_timestamp_u3.user_id.astype('int32')\n",
    "\n",
    "train_df['lagtime2']=train_df['timestamp']-train_df['lagtime2']\n",
    "lagtime_mean2=train_df['lagtime2'].mean()\n",
    "train_df['lagtime2'].fillna(lagtime_mean2, inplace=True)\n"
   ]
  },
  {
   "cell_type": "code",
   "execution_count": 28,
   "metadata": {
    "execution": {
     "iopub.execute_input": "2021-01-07T14:15:08.815843Z",
     "iopub.status.busy": "2021-01-07T14:15:08.814031Z",
     "iopub.status.idle": "2021-01-07T14:15:09.870588Z",
     "shell.execute_reply": "2021-01-07T14:15:09.871422Z"
    },
    "papermill": {
     "duration": 1.119169,
     "end_time": "2021-01-07T14:15:09.871618",
     "exception": false,
     "start_time": "2021-01-07T14:15:08.752449",
     "status": "completed"
    },
    "tags": []
   },
   "outputs": [],
   "source": [
    "train_df['lagtime2']=train_df['lagtime2']/(1000*3600)\n",
    "train_df.lagtime2=train_df.lagtime2.astype('float32')"
   ]
  },
  {
   "cell_type": "code",
   "execution_count": 29,
   "metadata": {
    "execution": {
     "iopub.execute_input": "2021-01-07T14:15:10.006720Z",
     "iopub.status.busy": "2021-01-07T14:15:10.005199Z",
     "iopub.status.idle": "2021-01-07T14:15:16.126813Z",
     "shell.execute_reply": "2021-01-07T14:15:16.126232Z"
    },
    "papermill": {
     "duration": 6.192536,
     "end_time": "2021-01-07T14:15:16.126949",
     "exception": false,
     "start_time": "2021-01-07T14:15:09.934413",
     "status": "completed"
    },
    "tags": []
   },
   "outputs": [],
   "source": [
    "\n",
    "train_df['lagtime3'] = train_df.groupby('user_id')['timestamp'].shift(3)\n",
    "\n",
    "train_df['lagtime3']=train_df['timestamp']-train_df['lagtime3']\n",
    "lagtime_mean3=train_df['lagtime3'].mean()\n",
    "train_df['lagtime3'].fillna(lagtime_mean3, inplace=True)\n",
    "train_df['lagtime3']=train_df['lagtime3']/(1000*3600)\n",
    "train_df.lagtime3=train_df.lagtime3.astype('float32')"
   ]
  },
  {
   "cell_type": "code",
   "execution_count": 30,
   "metadata": {
    "execution": {
     "iopub.execute_input": "2021-01-07T14:15:16.243046Z",
     "iopub.status.busy": "2021-01-07T14:15:16.241817Z",
     "iopub.status.idle": "2021-01-07T14:15:17.360916Z",
     "shell.execute_reply": "2021-01-07T14:15:17.361530Z"
    },
    "papermill": {
     "duration": 1.180883,
     "end_time": "2021-01-07T14:15:17.361687",
     "exception": false,
     "start_time": "2021-01-07T14:15:16.180804",
     "status": "completed"
    },
    "tags": []
   },
   "outputs": [],
   "source": [
    "train_df['timestamp']=train_df['timestamp']/(1000*3600)\n",
    "\n",
    "train_df.timestamp=train_df.timestamp.astype('float16')"
   ]
  },
  {
   "cell_type": "code",
   "execution_count": 31,
   "metadata": {
    "execution": {
     "iopub.execute_input": "2021-01-07T14:15:17.478262Z",
     "iopub.status.busy": "2021-01-07T14:15:17.476676Z",
     "iopub.status.idle": "2021-01-07T14:15:25.467486Z",
     "shell.execute_reply": "2021-01-07T14:15:25.466831Z"
    },
    "papermill": {
     "duration": 8.052473,
     "end_time": "2021-01-07T14:15:25.467615",
     "exception": false,
     "start_time": "2021-01-07T14:15:17.415142",
     "status": "completed"
    },
    "tags": []
   },
   "outputs": [],
   "source": [
    "user_prior_question_elapsed_time = train_df[['user_id','prior_question_elapsed_time']].groupby(['user_id']).tail(1)\n",
    "user_prior_question_elapsed_time.columns = ['user_id', 'prior_question_elapsed_time']"
   ]
  },
  {
   "cell_type": "code",
   "execution_count": 32,
   "metadata": {
    "execution": {
     "iopub.execute_input": "2021-01-07T14:15:25.581908Z",
     "iopub.status.busy": "2021-01-07T14:15:25.581167Z",
     "iopub.status.idle": "2021-01-07T14:15:29.591166Z",
     "shell.execute_reply": "2021-01-07T14:15:29.590462Z"
    },
    "papermill": {
     "duration": 4.069337,
     "end_time": "2021-01-07T14:15:29.591302",
     "exception": false,
     "start_time": "2021-01-07T14:15:25.521965",
     "status": "completed"
    },
    "tags": []
   },
   "outputs": [],
   "source": [
    "\n",
    "train_df['delta_prior_question_elapsed_time'] = train_df.groupby('user_id')['prior_question_elapsed_time'].shift()\n",
    "train_df['delta_prior_question_elapsed_time']=train_df['prior_question_elapsed_time']-train_df['delta_prior_question_elapsed_time']"
   ]
  },
  {
   "cell_type": "code",
   "execution_count": 33,
   "metadata": {
    "execution": {
     "iopub.execute_input": "2021-01-07T14:15:29.712420Z",
     "iopub.status.busy": "2021-01-07T14:15:29.711186Z",
     "iopub.status.idle": "2021-01-07T14:15:30.377350Z",
     "shell.execute_reply": "2021-01-07T14:15:30.377880Z"
    },
    "papermill": {
     "duration": 0.728296,
     "end_time": "2021-01-07T14:15:30.378044",
     "exception": false,
     "start_time": "2021-01-07T14:15:29.649748",
     "status": "completed"
    },
    "tags": []
   },
   "outputs": [],
   "source": [
    "delta_prior_question_elapsed_time_mean=train_df['delta_prior_question_elapsed_time'].mean()\n",
    "train_df['delta_prior_question_elapsed_time'].fillna(delta_prior_question_elapsed_time_mean, inplace=True)\n",
    "train_df.delta_prior_question_elapsed_time=train_df.delta_prior_question_elapsed_time.astype('int32')"
   ]
  },
  {
   "cell_type": "code",
   "execution_count": 34,
   "metadata": {
    "execution": {
     "iopub.execute_input": "2021-01-07T14:15:30.495790Z",
     "iopub.status.busy": "2021-01-07T14:15:30.494769Z",
     "iopub.status.idle": "2021-01-07T14:15:59.225081Z",
     "shell.execute_reply": "2021-01-07T14:15:59.226026Z"
    },
    "papermill": {
     "duration": 28.789361,
     "end_time": "2021-01-07T14:15:59.226285",
     "exception": false,
     "start_time": "2021-01-07T14:15:30.436924",
     "status": "completed"
    },
    "tags": []
   },
   "outputs": [],
   "source": [
    "\n",
    "train_df['lag'] = train_df.groupby('user_id')[target].shift()\n",
    "\n",
    "cum = train_df.groupby('user_id')['lag'].agg(['cumsum', 'cumcount'])\n",
    "\n",
    "user_agg = train_df.groupby('user_id')['lag'].agg(['sum', 'count']).astype('int16')\n",
    "cum['cumsum'].fillna(0, inplace=True)\n",
    "\n",
    "train_df['user_correctness'] = cum['cumsum'] / cum['cumcount']\n",
    "train_df['user_correct_count'] = cum['cumsum']\n",
    "train_df['user_uncorrect_count'] = cum['cumcount']-cum['cumsum']\n",
    "\n",
    "train_df.drop(columns=['lag'], inplace=True)\n",
    "train_df['user_correctness'].fillna(0.67, inplace=True)\n",
    "train_df.user_correctness=train_df.user_correctness.astype('float16')\n",
    "train_df.user_correct_count=train_df.user_correct_count.astype('int16')\n",
    "train_df.user_uncorrect_count=train_df.user_uncorrect_count.astype('int16')\n",
    "\n"
   ]
  },
  {
   "cell_type": "code",
   "execution_count": 35,
   "metadata": {
    "execution": {
     "iopub.execute_input": "2021-01-07T14:15:59.452216Z",
     "iopub.status.busy": "2021-01-07T14:15:59.450497Z",
     "iopub.status.idle": "2021-01-07T14:15:59.454962Z",
     "shell.execute_reply": "2021-01-07T14:15:59.455438Z"
    },
    "papermill": {
     "duration": 0.171624,
     "end_time": "2021-01-07T14:15:59.455596",
     "exception": false,
     "start_time": "2021-01-07T14:15:59.283972",
     "status": "completed"
    },
    "tags": []
   },
   "outputs": [
    {
     "data": {
      "text/plain": [
       "20"
      ]
     },
     "execution_count": 35,
     "metadata": {},
     "output_type": "execute_result"
    }
   ],
   "source": [
    "del cum\n",
    "gc.collect()"
   ]
  },
  {
   "cell_type": "code",
   "execution_count": 36,
   "metadata": {
    "execution": {
     "iopub.execute_input": "2021-01-07T14:15:59.634355Z",
     "iopub.status.busy": "2021-01-07T14:15:59.632428Z",
     "iopub.status.idle": "2021-01-07T14:16:03.145232Z",
     "shell.execute_reply": "2021-01-07T14:16:03.144628Z"
    },
    "papermill": {
     "duration": 3.578959,
     "end_time": "2021-01-07T14:16:03.145376",
     "exception": false,
     "start_time": "2021-01-07T14:15:59.566417",
     "status": "completed"
    },
    "tags": []
   },
   "outputs": [],
   "source": [
    "train_df.prior_question_had_explanation=train_df.prior_question_had_explanation.astype('int8')\n",
    "explanation_agg = train_df.groupby('user_id')['prior_question_had_explanation'].agg(['sum', 'count'])\n",
    "explanation_agg=explanation_agg.astype('int16')"
   ]
  },
  {
   "cell_type": "code",
   "execution_count": 37,
   "metadata": {
    "execution": {
     "iopub.execute_input": "2021-01-07T14:16:03.276534Z",
     "iopub.status.busy": "2021-01-07T14:16:03.275740Z",
     "iopub.status.idle": "2021-01-07T14:16:16.284955Z",
     "shell.execute_reply": "2021-01-07T14:16:16.284158Z"
    },
    "papermill": {
     "duration": 13.079536,
     "end_time": "2021-01-07T14:16:16.285106",
     "exception": false,
     "start_time": "2021-01-07T14:16:03.205570",
     "status": "completed"
    },
    "tags": []
   },
   "outputs": [],
   "source": [
    "cum = train_df.groupby('user_id')['prior_question_had_explanation'].agg(['cumsum', 'cumcount'])\n",
    "cum['cumcount']=cum['cumcount']+1\n",
    "train_df['explanation_mean'] = cum['cumsum'] / cum['cumcount']\n",
    "train_df['explanation_true_count'] = cum['cumsum'] \n",
    "train_df['explanation_false_count'] =  cum['cumcount']-cum['cumsum']\n",
    "\n",
    "train_df.explanation_mean=train_df.explanation_mean.astype('float16')\n",
    "train_df.explanation_true_count=train_df.explanation_true_count.astype('int16')\n",
    "train_df.explanation_false_count=train_df.explanation_false_count.astype('int16')"
   ]
  },
  {
   "cell_type": "code",
   "execution_count": 38,
   "metadata": {
    "execution": {
     "iopub.execute_input": "2021-01-07T14:16:16.538180Z",
     "iopub.status.busy": "2021-01-07T14:16:16.537363Z",
     "iopub.status.idle": "2021-01-07T14:16:16.544124Z",
     "shell.execute_reply": "2021-01-07T14:16:16.543508Z"
    },
    "papermill": {
     "duration": 0.199908,
     "end_time": "2021-01-07T14:16:16.544298",
     "exception": false,
     "start_time": "2021-01-07T14:16:16.344390",
     "status": "completed"
    },
    "tags": []
   },
   "outputs": [
    {
     "data": {
      "text/plain": [
       "73"
      ]
     },
     "execution_count": 38,
     "metadata": {},
     "output_type": "execute_result"
    }
   ],
   "source": [
    "del cum\n",
    "gc.collect()"
   ]
  },
  {
   "cell_type": "code",
   "execution_count": 39,
   "metadata": {
    "execution": {
     "iopub.execute_input": "2021-01-07T14:16:16.672870Z",
     "iopub.status.busy": "2021-01-07T14:16:16.672082Z",
     "iopub.status.idle": "2021-01-07T14:16:26.388393Z",
     "shell.execute_reply": "2021-01-07T14:16:26.386972Z"
    },
    "papermill": {
     "duration": 9.784141,
     "end_time": "2021-01-07T14:16:26.388547",
     "exception": false,
     "start_time": "2021-01-07T14:16:16.604406",
     "status": "completed"
    },
    "tags": []
   },
   "outputs": [],
   "source": [
    "content_agg = train_df.groupby('content_id')[target].agg(['sum', 'count','var'])\n",
    "task_container_agg = train_df.groupby('task_container_id')[target].agg(['sum', 'count','var'])\n",
    "content_agg=content_agg.astype('float32')\n",
    "task_container_agg=task_container_agg.astype('float32')"
   ]
  },
  {
   "cell_type": "code",
   "execution_count": 40,
   "metadata": {
    "execution": {
     "iopub.execute_input": "2021-01-07T14:16:26.509327Z",
     "iopub.status.busy": "2021-01-07T14:16:26.508570Z",
     "iopub.status.idle": "2021-01-07T14:16:32.656498Z",
     "shell.execute_reply": "2021-01-07T14:16:32.655754Z"
    },
    "papermill": {
     "duration": 6.211637,
     "end_time": "2021-01-07T14:16:32.656696",
     "exception": false,
     "start_time": "2021-01-07T14:16:26.445059",
     "status": "completed"
    },
    "tags": []
   },
   "outputs": [],
   "source": [
    "#\n",
    "train_df['task_container_uncor_count'] = train_df['task_container_id'].map(task_container_agg['count']-task_container_agg['sum']).astype('int32')\n",
    "train_df['task_container_cor_count'] = train_df['task_container_id'].map(task_container_agg['sum']).astype('int32')\n",
    "train_df['task_container_std'] = train_df['task_container_id'].map(task_container_agg['var']).astype('float16')\n",
    "train_df['task_container_correctness'] = train_df['task_container_id'].map(task_container_agg['sum'] / task_container_agg['count'])\n",
    "train_df.task_container_correctness=train_df.task_container_correctness.astype('float16')"
   ]
  },
  {
   "cell_type": "code",
   "execution_count": 41,
   "metadata": {
    "execution": {
     "iopub.execute_input": "2021-01-07T14:16:32.819176Z",
     "iopub.status.busy": "2021-01-07T14:16:32.818434Z",
     "iopub.status.idle": "2021-01-07T14:16:37.369691Z",
     "shell.execute_reply": "2021-01-07T14:16:37.370310Z"
    },
    "papermill": {
     "duration": 4.633444,
     "end_time": "2021-01-07T14:16:37.370525",
     "exception": false,
     "start_time": "2021-01-07T14:16:32.737081",
     "status": "completed"
    },
    "tags": []
   },
   "outputs": [],
   "source": [
    "content_elapsed_time_agg=train_df.groupby('content_id')['prior_question_elapsed_time'].agg(['mean'])\n",
    "content_had_explanation_agg=train_df.groupby('content_id')['prior_question_had_explanation'].agg(['mean'])"
   ]
  },
  {
   "cell_type": "code",
   "execution_count": 42,
   "metadata": {
    "execution": {
     "iopub.execute_input": "2021-01-07T14:16:37.492433Z",
     "iopub.status.busy": "2021-01-07T14:16:37.491636Z",
     "iopub.status.idle": "2021-01-07T14:16:37.522447Z",
     "shell.execute_reply": "2021-01-07T14:16:37.521617Z"
    },
    "papermill": {
     "duration": 0.093984,
     "end_time": "2021-01-07T14:16:37.522603",
     "exception": false,
     "start_time": "2021-01-07T14:16:37.428619",
     "status": "completed"
    },
    "tags": []
   },
   "outputs": [],
   "source": [
    "questions_df = pd.read_csv(\n",
    "    '../input/riiid-test-answer-prediction/questions.csv', \n",
    "    usecols=[0, 1,3,4],\n",
    "    dtype={'question_id': 'int16','bundle_id': 'int16', 'part': 'int8','tags': 'str'}\n",
    ")"
   ]
  },
  {
   "cell_type": "code",
   "execution_count": 43,
   "metadata": {
    "execution": {
     "iopub.execute_input": "2021-01-07T14:16:37.643994Z",
     "iopub.status.busy": "2021-01-07T14:16:37.643176Z",
     "iopub.status.idle": "2021-01-07T14:16:37.653557Z",
     "shell.execute_reply": "2021-01-07T14:16:37.654192Z"
    },
    "papermill": {
     "duration": 0.075136,
     "end_time": "2021-01-07T14:16:37.654404",
     "exception": false,
     "start_time": "2021-01-07T14:16:37.579268",
     "status": "completed"
    },
    "tags": []
   },
   "outputs": [],
   "source": [
    "bundle_agg = questions_df.groupby('bundle_id')['question_id'].agg(['count'])"
   ]
  },
  {
   "cell_type": "code",
   "execution_count": 44,
   "metadata": {
    "execution": {
     "iopub.execute_input": "2021-01-07T14:16:37.784452Z",
     "iopub.status.busy": "2021-01-07T14:16:37.783194Z",
     "iopub.status.idle": "2021-01-07T14:16:37.790089Z",
     "shell.execute_reply": "2021-01-07T14:16:37.789211Z"
    },
    "papermill": {
     "duration": 0.075878,
     "end_time": "2021-01-07T14:16:37.790267",
     "exception": false,
     "start_time": "2021-01-07T14:16:37.714389",
     "status": "completed"
    },
    "tags": []
   },
   "outputs": [],
   "source": [
    "questions_df['content_sub_bundle'] = questions_df['bundle_id'].map(bundle_agg['count']).astype('int8')"
   ]
  },
  {
   "cell_type": "code",
   "execution_count": 45,
   "metadata": {
    "execution": {
     "iopub.execute_input": "2021-01-07T14:16:37.918015Z",
     "iopub.status.busy": "2021-01-07T14:16:37.917225Z",
     "iopub.status.idle": "2021-01-07T14:16:37.921388Z",
     "shell.execute_reply": "2021-01-07T14:16:37.920651Z"
    },
    "papermill": {
     "duration": 0.072816,
     "end_time": "2021-01-07T14:16:37.921530",
     "exception": false,
     "start_time": "2021-01-07T14:16:37.848714",
     "status": "completed"
    },
    "tags": []
   },
   "outputs": [],
   "source": [
    "\n",
    "questions_df['tags'].fillna('188', inplace=True)"
   ]
  },
  {
   "cell_type": "code",
   "execution_count": 46,
   "metadata": {
    "execution": {
     "iopub.execute_input": "2021-01-07T14:16:38.055346Z",
     "iopub.status.busy": "2021-01-07T14:16:38.054145Z",
     "iopub.status.idle": "2021-01-07T14:16:38.058522Z",
     "shell.execute_reply": "2021-01-07T14:16:38.059125Z"
    },
    "papermill": {
     "duration": 0.077197,
     "end_time": "2021-01-07T14:16:38.059338",
     "exception": false,
     "start_time": "2021-01-07T14:16:37.982141",
     "status": "completed"
    },
    "tags": []
   },
   "outputs": [],
   "source": [
    "def gettags(tags,num):\n",
    "    tags_splits=tags.split(\" \")\n",
    "    result='' \n",
    "    for t in tags_splits:\n",
    "        x=int(t)\n",
    "        if(x<32*(num+1) and x>=32*num):#num \n",
    "            result=result+' '+t\n",
    "    return result"
   ]
  },
  {
   "cell_type": "code",
   "execution_count": 47,
   "metadata": {
    "execution": {
     "iopub.execute_input": "2021-01-07T14:16:38.232291Z",
     "iopub.status.busy": "2021-01-07T14:16:38.206716Z",
     "iopub.status.idle": "2021-01-07T14:16:38.481929Z",
     "shell.execute_reply": "2021-01-07T14:16:38.481313Z"
    },
    "papermill": {
     "duration": 0.361577,
     "end_time": "2021-01-07T14:16:38.482057",
     "exception": false,
     "start_time": "2021-01-07T14:16:38.120480",
     "status": "completed"
    },
    "tags": []
   },
   "outputs": [],
   "source": [
    "from sklearn.preprocessing import LabelEncoder\n",
    "for num in range(0,6):\n",
    "    questions_df[\"tags\"+str(num)] = questions_df[\"tags\"].apply(lambda row: gettags(row,num))\n",
    "    le = LabelEncoder()\n",
    "    le.fit(np.unique(questions_df['tags'+str(num)].values))\n",
    "    questions_df['tags'+str(num)]=questions_df[['tags'+str(num)]].apply(le.transform)"
   ]
  },
  {
   "cell_type": "code",
   "execution_count": 48,
   "metadata": {
    "execution": {
     "iopub.execute_input": "2021-01-07T14:16:38.608315Z",
     "iopub.status.busy": "2021-01-07T14:16:38.607579Z",
     "iopub.status.idle": "2021-01-07T14:16:38.610565Z",
     "shell.execute_reply": "2021-01-07T14:16:38.611111Z"
    },
    "papermill": {
     "duration": 0.070645,
     "end_time": "2021-01-07T14:16:38.611279",
     "exception": false,
     "start_time": "2021-01-07T14:16:38.540634",
     "status": "completed"
    },
    "tags": []
   },
   "outputs": [],
   "source": [
    "questions_df_dict = {   \n",
    "    'tags0': 'int8',\n",
    "    'tags1': 'int8',\n",
    "    'tags2': 'int8',\n",
    "    'tags3': 'int8',\n",
    "    'tags4': 'int8',\n",
    "    'tags5': 'int8',\n",
    "    #'tags6': 'int8',\n",
    "    #'tags7': 'int8'\n",
    "}\n",
    "questions_df = questions_df.astype(questions_df_dict)"
   ]
  },
  {
   "cell_type": "code",
   "execution_count": 49,
   "metadata": {
    "execution": {
     "iopub.execute_input": "2021-01-07T14:16:38.737138Z",
     "iopub.status.busy": "2021-01-07T14:16:38.736162Z",
     "iopub.status.idle": "2021-01-07T14:16:38.741987Z",
     "shell.execute_reply": "2021-01-07T14:16:38.742607Z"
    },
    "papermill": {
     "duration": 0.069379,
     "end_time": "2021-01-07T14:16:38.742777",
     "exception": false,
     "start_time": "2021-01-07T14:16:38.673398",
     "status": "completed"
    },
    "tags": []
   },
   "outputs": [],
   "source": [
    "questions_df.drop(columns=['tags'], inplace=True)"
   ]
  },
  {
   "cell_type": "code",
   "execution_count": 50,
   "metadata": {
    "execution": {
     "iopub.execute_input": "2021-01-07T14:16:38.862178Z",
     "iopub.status.busy": "2021-01-07T14:16:38.861456Z",
     "iopub.status.idle": "2021-01-07T14:16:38.870922Z",
     "shell.execute_reply": "2021-01-07T14:16:38.871446Z"
    },
    "papermill": {
     "duration": 0.071158,
     "end_time": "2021-01-07T14:16:38.871629",
     "exception": false,
     "start_time": "2021-01-07T14:16:38.800471",
     "status": "completed"
    },
    "tags": []
   },
   "outputs": [],
   "source": [
    "\n",
    "questions_df['part_bundle_id']=questions_df['part']*100000+questions_df['bundle_id']\n",
    "questions_df.part_bundle_id=questions_df.part_bundle_id.astype('int32')\n"
   ]
  },
  {
   "cell_type": "code",
   "execution_count": 51,
   "metadata": {
    "execution": {
     "iopub.execute_input": "2021-01-07T14:16:38.990762Z",
     "iopub.status.busy": "2021-01-07T14:16:38.990064Z",
     "iopub.status.idle": "2021-01-07T14:16:38.995569Z",
     "shell.execute_reply": "2021-01-07T14:16:38.996084Z"
    },
    "papermill": {
     "duration": 0.067409,
     "end_time": "2021-01-07T14:16:38.996268",
     "exception": false,
     "start_time": "2021-01-07T14:16:38.928859",
     "status": "completed"
    },
    "tags": []
   },
   "outputs": [],
   "source": [
    "questions_df.rename(columns={'question_id':'content_id'}, inplace=True)"
   ]
  },
  {
   "cell_type": "code",
   "execution_count": 52,
   "metadata": {
    "execution": {
     "iopub.execute_input": "2021-01-07T14:16:39.136512Z",
     "iopub.status.busy": "2021-01-07T14:16:39.135770Z",
     "iopub.status.idle": "2021-01-07T14:16:39.148559Z",
     "shell.execute_reply": "2021-01-07T14:16:39.149369Z"
    },
    "papermill": {
     "duration": 0.082699,
     "end_time": "2021-01-07T14:16:39.149562",
     "exception": false,
     "start_time": "2021-01-07T14:16:39.066863",
     "status": "completed"
    },
    "tags": []
   },
   "outputs": [],
   "source": [
    "questions_df = pd.merge(questions_df, content_explation_agg, on='content_id', how='left',right_index=True)#\n"
   ]
  },
  {
   "cell_type": "code",
   "execution_count": 53,
   "metadata": {
    "execution": {
     "iopub.execute_input": "2021-01-07T14:16:39.272092Z",
     "iopub.status.busy": "2021-01-07T14:16:39.271434Z",
     "iopub.status.idle": "2021-01-07T14:16:39.275273Z",
     "shell.execute_reply": "2021-01-07T14:16:39.275891Z"
    },
    "papermill": {
     "duration": 0.067385,
     "end_time": "2021-01-07T14:16:39.276043",
     "exception": false,
     "start_time": "2021-01-07T14:16:39.208658",
     "status": "completed"
    },
    "tags": []
   },
   "outputs": [],
   "source": [
    "del content_explation_agg"
   ]
  },
  {
   "cell_type": "code",
   "execution_count": 54,
   "metadata": {
    "execution": {
     "iopub.execute_input": "2021-01-07T14:16:39.398756Z",
     "iopub.status.busy": "2021-01-07T14:16:39.398048Z",
     "iopub.status.idle": "2021-01-07T14:16:39.413842Z",
     "shell.execute_reply": "2021-01-07T14:16:39.414396Z"
    },
    "papermill": {
     "duration": 0.077881,
     "end_time": "2021-01-07T14:16:39.414593",
     "exception": false,
     "start_time": "2021-01-07T14:16:39.336712",
     "status": "completed"
    },
    "tags": []
   },
   "outputs": [],
   "source": [
    "questions_df['content_correctness'] = questions_df['content_id'].map(content_agg['sum'] / content_agg['count'])\n",
    "questions_df.content_correctness=questions_df.content_correctness.astype('float16')\n",
    "questions_df['content_correctness_std'] = questions_df['content_id'].map(content_agg['var'])\n",
    "questions_df.content_correctness_std=questions_df.content_correctness_std.astype('float16')\n",
    "questions_df['content_uncorrect_count'] = questions_df['content_id'].map(content_agg['count']-content_agg['sum']).astype('int32')\n",
    "questions_df['content_correct_count'] = questions_df['content_id'].map(content_agg['sum']).astype('int32')"
   ]
  },
  {
   "cell_type": "code",
   "execution_count": 55,
   "metadata": {
    "execution": {
     "iopub.execute_input": "2021-01-07T14:16:39.537663Z",
     "iopub.status.busy": "2021-01-07T14:16:39.536933Z",
     "iopub.status.idle": "2021-01-07T14:16:39.547615Z",
     "shell.execute_reply": "2021-01-07T14:16:39.548122Z"
    },
    "papermill": {
     "duration": 0.074702,
     "end_time": "2021-01-07T14:16:39.548313",
     "exception": false,
     "start_time": "2021-01-07T14:16:39.473611",
     "status": "completed"
    },
    "tags": []
   },
   "outputs": [],
   "source": [
    "questions_df['content_elapsed_time_mean'] = questions_df['content_id'].map(content_elapsed_time_agg['mean'])\n",
    "questions_df.content_elapsed_time_mean=questions_df.content_elapsed_time_mean.astype('float16')\n",
    "questions_df['content_had_explanation_mean'] = questions_df['content_id'].map(content_had_explanation_agg['mean'])\n",
    "questions_df.content_had_explanation_mean=questions_df.content_had_explanation_mean.astype('float16')"
   ]
  },
  {
   "cell_type": "code",
   "execution_count": 56,
   "metadata": {
    "execution": {
     "iopub.execute_input": "2021-01-07T14:16:39.668926Z",
     "iopub.status.busy": "2021-01-07T14:16:39.668093Z",
     "iopub.status.idle": "2021-01-07T14:16:39.770995Z",
     "shell.execute_reply": "2021-01-07T14:16:39.770420Z"
    },
    "papermill": {
     "duration": 0.163902,
     "end_time": "2021-01-07T14:16:39.771115",
     "exception": false,
     "start_time": "2021-01-07T14:16:39.607213",
     "status": "completed"
    },
    "tags": []
   },
   "outputs": [
    {
     "data": {
      "text/plain": [
       "193"
      ]
     },
     "execution_count": 56,
     "metadata": {},
     "output_type": "execute_result"
    }
   ],
   "source": [
    "del content_elapsed_time_agg\n",
    "del content_had_explanation_agg\n",
    "gc.collect()"
   ]
  },
  {
   "cell_type": "code",
   "execution_count": 57,
   "metadata": {
    "execution": {
     "iopub.execute_input": "2021-01-07T14:16:39.900500Z",
     "iopub.status.busy": "2021-01-07T14:16:39.899742Z",
     "iopub.status.idle": "2021-01-07T14:16:39.909203Z",
     "shell.execute_reply": "2021-01-07T14:16:39.909791Z"
    },
    "papermill": {
     "duration": 0.08106,
     "end_time": "2021-01-07T14:16:39.909956",
     "exception": false,
     "start_time": "2021-01-07T14:16:39.828896",
     "status": "completed"
    },
    "tags": []
   },
   "outputs": [],
   "source": [
    "part_agg = questions_df.groupby('part')['content_correctness'].agg(['mean', 'var'])\n",
    "questions_df['part_correctness_mean'] = questions_df['part'].map(part_agg['mean'])\n",
    "questions_df['part_correctness_std'] = questions_df['part'].map(part_agg['var'])\n",
    "questions_df.part_correctness_mean=questions_df.part_correctness_mean.astype('float16')\n",
    "questions_df.part_correctness_std=questions_df.part_correctness_std.astype('float16')"
   ]
  },
  {
   "cell_type": "code",
   "execution_count": 58,
   "metadata": {
    "execution": {
     "iopub.execute_input": "2021-01-07T14:16:40.044424Z",
     "iopub.status.busy": "2021-01-07T14:16:40.043694Z",
     "iopub.status.idle": "2021-01-07T14:16:40.057003Z",
     "shell.execute_reply": "2021-01-07T14:16:40.056389Z"
    },
    "papermill": {
     "duration": 0.083073,
     "end_time": "2021-01-07T14:16:40.057130",
     "exception": false,
     "start_time": "2021-01-07T14:16:39.974057",
     "status": "completed"
    },
    "tags": []
   },
   "outputs": [],
   "source": [
    "part_agg = questions_df.groupby('part')['content_uncorrect_count'].agg(['sum'])\n",
    "questions_df['part_uncor_count'] = questions_df['part'].map(part_agg['sum']).astype('int32')\n",
    "#\n",
    "part_agg = questions_df.groupby('part')['content_correct_count'].agg(['sum'])\n",
    "questions_df['part_cor_count'] = questions_df['part'].map(part_agg['sum']).astype('int32')"
   ]
  },
  {
   "cell_type": "code",
   "execution_count": 59,
   "metadata": {
    "execution": {
     "iopub.execute_input": "2021-01-07T14:16:40.185650Z",
     "iopub.status.busy": "2021-01-07T14:16:40.184512Z",
     "iopub.status.idle": "2021-01-07T14:16:40.197639Z",
     "shell.execute_reply": "2021-01-07T14:16:40.196845Z"
    },
    "papermill": {
     "duration": 0.08045,
     "end_time": "2021-01-07T14:16:40.197834",
     "exception": false,
     "start_time": "2021-01-07T14:16:40.117384",
     "status": "completed"
    },
    "tags": []
   },
   "outputs": [],
   "source": [
    "bundle_agg = questions_df.groupby('bundle_id')['content_correctness'].agg(['mean'])\n",
    "questions_df['bundle_correctness_mean'] = questions_df['bundle_id'].map(bundle_agg['mean'])\n",
    "questions_df.bundle_correctness_mean=questions_df.bundle_correctness_mean.astype('float16')\n"
   ]
  },
  {
   "cell_type": "code",
   "execution_count": 60,
   "metadata": {
    "execution": {
     "iopub.execute_input": "2021-01-07T14:16:40.405005Z",
     "iopub.status.busy": "2021-01-07T14:16:40.404140Z",
     "iopub.status.idle": "2021-01-07T14:16:40.408897Z",
     "shell.execute_reply": "2021-01-07T14:16:40.408381Z"
    },
    "papermill": {
     "duration": 0.150922,
     "end_time": "2021-01-07T14:16:40.409012",
     "exception": false,
     "start_time": "2021-01-07T14:16:40.258090",
     "status": "completed"
    },
    "tags": []
   },
   "outputs": [
    {
     "data": {
      "text/plain": [
       "80"
      ]
     },
     "execution_count": 60,
     "metadata": {},
     "output_type": "execute_result"
    }
   ],
   "source": [
    "del content_agg\n",
    "del bundle_agg\n",
    "del part_agg\n",
    "#del tags1_agg\n",
    "gc.collect()"
   ]
  },
  {
   "cell_type": "code",
   "execution_count": 61,
   "metadata": {
    "execution": {
     "iopub.execute_input": "2021-01-07T14:16:40.538165Z",
     "iopub.status.busy": "2021-01-07T14:16:40.537335Z",
     "iopub.status.idle": "2021-01-07T14:16:40.545556Z",
     "shell.execute_reply": "2021-01-07T14:16:40.546056Z"
    },
    "papermill": {
     "duration": 0.077927,
     "end_time": "2021-01-07T14:16:40.546219",
     "exception": false,
     "start_time": "2021-01-07T14:16:40.468292",
     "status": "completed"
    },
    "tags": []
   },
   "outputs": [],
   "source": [
    "features_dict = {\n",
    "    #'user_id',\n",
    "    'timestamp':'float16',#\n",
    "    'user_interaction_count':'int16',\n",
    "    'user_interaction_timestamp_mean':'float32',\n",
    "    'lagtime':'float32',#\n",
    "    'lagtime2':'float32',\n",
    "    'lagtime3':'float32',\n",
    "    #'lagtime_mean':'int32',\n",
    "    'content_id':'int16',\n",
    "    'task_container_id':'int16',\n",
    "    'user_lecture_sum':'int16',#\n",
    "    'user_lecture_lv':'float16',##\n",
    "    'prior_question_elapsed_time':'float32',#\n",
    "    'delta_prior_question_elapsed_time':'int32',#\n",
    "    'user_correctness':'float16',#\n",
    "    'user_uncorrect_count':'int16',#\n",
    "    'user_correct_count':'int16',#\n",
    "    #'content_correctness':'float16',\n",
    "    'content_correctness_std':'float16',\n",
    "    'content_correct_count':'int32',\n",
    "    'content_uncorrect_count':'int32',#\n",
    "    'content_elapsed_time_mean':'float16',\n",
    "    'content_had_explanation_mean':'float16',\n",
    "    'content_explation_false_mean':'float16',\n",
    "    'content_explation_true_mean':'float16',\n",
    "    'task_container_correctness':'float16',\n",
    "    'task_container_std':'float16',\n",
    "    'task_container_cor_count':'int32',#\n",
    "    'task_container_uncor_count':'int32',#\n",
    "    'attempt_no':'int8',#\n",
    "    'part':'int8',\n",
    "    'part_correctness_mean':'float16',\n",
    "    'part_correctness_std':'float16',\n",
    "    'part_uncor_count':'int32',\n",
    "    'part_cor_count':'int32',\n",
    "    'tags0': 'int8',\n",
    "    'tags1': 'int8',\n",
    "    'tags2': 'int8',\n",
    "    'tags3': 'int8',\n",
    "    'tags4': 'int8',\n",
    "    'tags5': 'int8',\n",
    "\n",
    "    'part_bundle_id':'int32',\n",
    "    'content_sub_bundle':'int8',\n",
    "    'prior_question_had_explanation':'int8',\n",
    "    'explanation_mean':'float16', #\n",
    "    #'explanation_var',#\n",
    "    'explanation_false_count':'int16',#\n",
    "    'explanation_true_count':'int16',#\n",
    "\n",
    "#     'type_of_starter'\n",
    "}\n",
    "categorical_columns= [\n",
    "    #'user_id',\n",
    "    'content_id',\n",
    "    'task_container_id',\n",
    "    'part',\n",
    "   # 'community',\n",
    "    'tags0',\n",
    "    'tags1',\n",
    "    'tags2',\n",
    "    'tags3',\n",
    "    'tags4',\n",
    "    'tags5',\n",
    "    #'tags6',\n",
    "    #'tags7',\n",
    "    #'bundle_id',\n",
    "    'part_bundle_id',\n",
    "    'content_sub_bundle',\n",
    "    'prior_question_had_explanation', \n",
    "\n",
    "#     'type_of_starter'\n",
    "]\n",
    "\n",
    "features=list(features_dict.keys())\n"
   ]
  },
  {
   "cell_type": "code",
   "execution_count": 62,
   "metadata": {
    "execution": {
     "iopub.execute_input": "2021-01-07T14:16:40.668893Z",
     "iopub.status.busy": "2021-01-07T14:16:40.668123Z",
     "iopub.status.idle": "2021-01-07T14:17:09.521796Z",
     "shell.execute_reply": "2021-01-07T14:17:09.522567Z"
    },
    "papermill": {
     "duration": 28.917478,
     "end_time": "2021-01-07T14:17:09.523198",
     "exception": false,
     "start_time": "2021-01-07T14:16:40.605720",
     "status": "completed"
    },
    "tags": []
   },
   "outputs": [
    {
     "name": "stdout",
     "output_type": "stream",
     "text": [
      "sample end\n",
      "train_df_clf length： 19904805\n",
      "valid_df length： 4095195\n"
     ]
    }
   ],
   "source": [
    "flag_lgbm=True\n",
    "clfs = list()\n",
    "params = {\n",
    "'num_leaves': 200,\n",
    "'max_bin':450,\n",
    "# 'min_child_weight': 0.03454472573214212,\n",
    "'feature_fraction': 0.52,\n",
    "'bagging_fraction': 0.52,\n",
    "#'min_data_in_leaf': 106,\n",
    "# 'max_depth': -1,\n",
    "'objective': 'binary',\n",
    "'learning_rate': 0.05,\n",
    "\"boosting_type\": \"gbdt\",\n",
    "\"metric\": 'auc',\n",
    "# \"bagging_seed\": 11,\n",
    "\n",
    "}\n",
    "trains=list()\n",
    "valids=list()\n",
    "num=1\n",
    "for i in range(0,num):\n",
    "    \n",
    "\n",
    "    train_df_clf=train_df[1200*10000:3*1200*10000]\n",
    "    print('sample end')\n",
    "    #train_df.drop(train_df_clf.index, inplace=True)\n",
    "    #print('train_df drop end')\n",
    "    \n",
    "   \n",
    "    del train_df\n",
    "    \n",
    "    \n",
    "    \n",
    "    users=train_df_clf['user_id'].drop_duplicates()#\n",
    "    #\n",
    "    users=users.sample(frac=0.08)\n",
    "    users_df=pd.DataFrame()\n",
    "    users_df['user_id']=users.values\n",
    "   \n",
    "   \n",
    "    valid_df_newuser = pd.merge(train_df_clf, users_df, on=['user_id'], how='inner',right_index=True)\n",
    "    del users_df\n",
    "    del users\n",
    "    gc.collect()\n",
    "    #\n",
    "    train_df_clf.drop(valid_df_newuser.index, inplace=True)\n",
    "\n",
    "\n",
    "    train_df_clf = pd.merge(train_df_clf, questions_df, on='content_id', how='left',right_index=True)#\n",
    "    valid_df_newuser = pd.merge(valid_df_newuser, questions_df, on='content_id', how='left',right_index=True)#\n",
    "    \n",
    "#     train_df_clf = pd.merge(train_df_clf, user_lecture_stats_part, on='user_id', how=\"left\",right_index=True)\n",
    "#     valid_df_newuser = pd.merge(valid_df_newuser, user_lecture_stats_part, on='user_id', how=\"left\",right_index=True)\n",
    "\n",
    "    valid_df=train_df_clf.sample(frac=0.1)\n",
    "    train_df_clf.drop(valid_df.index, inplace=True)\n",
    "    \n",
    "\n",
    "   \n",
    "    valid_df = valid_df.append(valid_df_newuser)\n",
    "    del valid_df_newuser\n",
    "    gc.collect()\n",
    "    #\n",
    "\n",
    "    trains.append(train_df_clf)\n",
    "    valids.append(valid_df)\n",
    "    print('train_df_clf length：',len(train_df_clf))\n",
    "    print('valid_df length：',len(valid_df))\n",
    "    #train_df=train_df.reset_index(drop=True)"
   ]
  },
  {
   "cell_type": "code",
   "execution_count": 63,
   "metadata": {
    "execution": {
     "iopub.execute_input": "2021-01-07T14:17:09.759033Z",
     "iopub.status.busy": "2021-01-07T14:17:09.757665Z",
     "iopub.status.idle": "2021-01-07T14:17:09.762974Z",
     "shell.execute_reply": "2021-01-07T14:17:09.763529Z"
    },
    "papermill": {
     "duration": 0.163029,
     "end_time": "2021-01-07T14:17:09.763703",
     "exception": false,
     "start_time": "2021-01-07T14:17:09.600674",
     "status": "completed"
    },
    "tags": []
   },
   "outputs": [
    {
     "data": {
      "text/plain": [
       "20"
      ]
     },
     "execution_count": 63,
     "metadata": {},
     "output_type": "execute_result"
    }
   ],
   "source": [
    "#del train_df\n",
    "del train_df_clf\n",
    "del valid_df\n",
    "gc.collect()"
   ]
  },
  {
   "cell_type": "code",
   "execution_count": 64,
   "metadata": {
    "execution": {
     "iopub.execute_input": "2021-01-07T14:17:09.905672Z",
     "iopub.status.busy": "2021-01-07T14:17:09.900329Z",
     "iopub.status.idle": "2021-01-07T15:45:38.055598Z",
     "shell.execute_reply": "2021-01-07T15:45:38.056400Z"
    },
    "papermill": {
     "duration": 5308.229363,
     "end_time": "2021-01-07T15:45:38.057398",
     "exception": false,
     "start_time": "2021-01-07T14:17:09.828035",
     "status": "completed"
    },
    "tags": []
   },
   "outputs": [
    {
     "name": "stderr",
     "output_type": "stream",
     "text": [
      "/opt/conda/lib/python3.7/site-packages/lightgbm/basic.py:1295: UserWarning: categorical_feature in Dataset is overridden.\n",
      "New categorical_feature is ['content_id', 'content_sub_bundle', 'part', 'part_bundle_id', 'prior_question_had_explanation', 'tags0', 'tags1', 'tags2', 'tags3', 'tags4', 'tags5', 'task_container_id']\n",
      "  'New categorical_feature is {}'.format(sorted(list(categorical_feature))))\n"
     ]
    },
    {
     "name": "stdout",
     "output_type": "stream",
     "text": [
      "Training until validation scores don't improve for 50 rounds\n",
      "[50]\ttraining's auc: 0.768796\tvalid_1's auc: 0.768109\n",
      "[100]\ttraining's auc: 0.776475\tvalid_1's auc: 0.773033\n",
      "[150]\ttraining's auc: 0.781352\tvalid_1's auc: 0.775122\n",
      "[200]\ttraining's auc: 0.785048\tvalid_1's auc: 0.77627\n",
      "[250]\ttraining's auc: 0.787808\tvalid_1's auc: 0.776904\n",
      "[300]\ttraining's auc: 0.789898\tvalid_1's auc: 0.777227\n",
      "[350]\ttraining's auc: 0.791864\tvalid_1's auc: 0.777397\n",
      "[400]\ttraining's auc: 0.793548\tvalid_1's auc: 0.777513\n",
      "[450]\ttraining's auc: 0.79515\tvalid_1's auc: 0.77759\n",
      "[500]\ttraining's auc: 0.796508\tvalid_1's auc: 0.777698\n",
      "[550]\ttraining's auc: 0.797839\tvalid_1's auc: 0.777727\n",
      "[600]\ttraining's auc: 0.798985\tvalid_1's auc: 0.777785\n",
      "[650]\ttraining's auc: 0.800155\tvalid_1's auc: 0.777785\n",
      "Early stopping, best iteration is:\n",
      "[621]\ttraining's auc: 0.799481\tvalid_1's auc: 0.777795\n"
     ]
    },
    {
     "data": {
      "image/png": "[encoded data removed]",
      "text/plain": [
       "<Figure size 1080x1080 with 1 Axes>"
      ]
     },
     "metadata": {
      "needs_background": "light"
     },
     "output_type": "display_data"
    }
   ],
   "source": [
    "\n",
    "for i in range(0,num):\n",
    "      \n",
    "#     tr_data = lgb.Dataset(trains[i][features], label=trains[i][target])\n",
    "#     va_data = lgb.Dataset(valids[i][features], label=valids[i][target])\n",
    "\n",
    "    #Don't use DF to create lightgbm dataset, rather use np array:\n",
    "    X_train_np = trains[i][features].values.astype(np.float32)\n",
    "    X_valid_np = valids[i][features].values.astype(np.float32)\n",
    "    #features = train.columns\n",
    "    tr_data = lgb.Dataset(X_train_np, label=trains[i][target], feature_name=list(features))\n",
    "    va_data = lgb.Dataset(X_valid_np, label=valids[i][target], feature_name=list(features))\n",
    "    \n",
    "\n",
    "#     del train_df_clf\n",
    "#     del valid_df\n",
    "#     gc.collect()\n",
    "    del trains\n",
    "    del valids\n",
    "    del X_train_np\n",
    "    del X_valid_np\n",
    "    gc.collect()\n",
    "\n",
    "    model = lgb.train(\n",
    "        params, \n",
    "        tr_data,\n",
    "#         train_df[features],\n",
    "#         train_df[target],\n",
    "        num_boost_round=5000,\n",
    "        #valid_sets=[(train_df[features],train_df[target]), (valid_df[features],valid_df[target])], \n",
    "        valid_sets=[tr_data, va_data],\n",
    "        early_stopping_rounds=50,\n",
    "        feature_name=features,\n",
    "        categorical_feature=categorical_columns,\n",
    "        verbose_eval=50\n",
    "    )\n",
    "    clfs.append(model)\n",
    "    #print('test-auc:', roc_auc_score(test_df[target], model.predict(test_df[features])))\n",
    "    #model.save_model(f'model.txt')\n",
    "\n",
    "\n",
    "    fig,ax = plt.subplots(figsize=(15,15))\n",
    "    lgb.plot_importance(model, ax=ax,importance_type='gain',max_num_features=50)\n",
    "    plt.show()\n",
    "\n",
    "    del tr_data\n",
    "    del va_data\n",
    "    gc.collect()\n"
   ]
  },
  {
   "cell_type": "code",
   "execution_count": 65,
   "metadata": {
    "execution": {
     "iopub.execute_input": "2021-01-07T15:45:38.233109Z",
     "iopub.status.busy": "2021-01-07T15:45:38.216857Z",
     "iopub.status.idle": "2021-01-07T15:45:56.702991Z",
     "shell.execute_reply": "2021-01-07T15:45:56.702305Z"
    },
    "papermill": {
     "duration": 18.571505,
     "end_time": "2021-01-07T15:45:56.703131",
     "exception": false,
     "start_time": "2021-01-07T15:45:38.131626",
     "status": "completed"
    },
    "tags": []
   },
   "outputs": [
    {
     "data": {
      "text/plain": [
       "SAKTModel(\n",
       "  (embedding): Embedding(27047, 128)\n",
       "  (pos_embedding): Embedding(99, 128)\n",
       "  (e_embedding): Embedding(13524, 128)\n",
       "  (multi_att): MultiheadAttention(\n",
       "    (out_proj): _LinearWithBias(in_features=128, out_features=128, bias=True)\n",
       "  )\n",
       "  (dropout): Dropout(p=0.2, inplace=False)\n",
       "  (layer_normal): LayerNorm((128,), eps=1e-05, elementwise_affine=True)\n",
       "  (ffn): FFN(\n",
       "    (lr1): Linear(in_features=128, out_features=128, bias=True)\n",
       "    (relu): ReLU()\n",
       "    (lr2): Linear(in_features=128, out_features=128, bias=True)\n",
       "    (dropout): Dropout(p=0.2, inplace=False)\n",
       "  )\n",
       "  (pred): Linear(in_features=128, out_features=1, bias=True)\n",
       ")"
      ]
     },
     "execution_count": 65,
     "metadata": {},
     "output_type": "execute_result"
    }
   ],
   "source": [
    "import torch\n",
    "import torch.nn as nn\n",
    "from torch.utils.data import Dataset, DataLoader\n",
    "\n",
    "\n",
    "MAX_SEQ = 100\n",
    "\n",
    "class FFN(nn.Module):\n",
    "    def __init__(self, state_size=200):\n",
    "        super(FFN, self).__init__()\n",
    "        self.state_size = state_size\n",
    "\n",
    "        self.lr1 = nn.Linear(state_size, state_size)\n",
    "        self.relu = nn.ReLU()\n",
    "        self.lr2 = nn.Linear(state_size, state_size)\n",
    "        self.dropout = nn.Dropout(0.2)\n",
    "    \n",
    "    def forward(self, x):\n",
    "        x = self.lr1(x)\n",
    "        x = self.relu(x)\n",
    "        x = self.lr2(x)\n",
    "        return self.dropout(x)\n",
    "\n",
    "def future_mask(seq_length):\n",
    "    future_mask = np.triu(np.ones((seq_length, seq_length)), k=1).astype('bool')\n",
    "    return torch.from_numpy(future_mask)\n",
    "\n",
    "\n",
    "class SAKTModel(nn.Module):\n",
    "    def __init__(self, n_skill, max_seq=MAX_SEQ, embed_dim=128):\n",
    "        super(SAKTModel, self).__init__()\n",
    "        self.n_skill = n_skill\n",
    "        self.embed_dim = embed_dim\n",
    "\n",
    "        self.embedding = nn.Embedding(2*n_skill+1, embed_dim)\n",
    "        self.pos_embedding = nn.Embedding(max_seq-1, embed_dim)\n",
    "        self.e_embedding = nn.Embedding(n_skill+1, embed_dim)\n",
    "\n",
    "        self.multi_att = nn.MultiheadAttention(embed_dim=embed_dim, num_heads=8, dropout=0.2)\n",
    "\n",
    "        self.dropout = nn.Dropout(0.2)\n",
    "        self.layer_normal = nn.LayerNorm(embed_dim) \n",
    "\n",
    "        self.ffn = FFN(embed_dim)\n",
    "        self.pred = nn.Linear(embed_dim, 1)\n",
    "    \n",
    "    def forward(self, x, question_ids):\n",
    "        device = x.device        \n",
    "        x = self.embedding(x)\n",
    "        pos_id = torch.arange(x.size(1)).unsqueeze(0).to(device)\n",
    "\n",
    "        pos_x = self.pos_embedding(pos_id)\n",
    "        x = x + pos_x\n",
    "\n",
    "        e = self.e_embedding(question_ids)\n",
    "\n",
    "        x = x.permute(1, 0, 2) # x: [bs, s_len, embed] => [s_len, bs, embed]\n",
    "        e = e.permute(1, 0, 2)\n",
    "        att_mask = future_mask(x.size(0)).to(device)\n",
    "        att_output, att_weight = self.multi_att(e, x, x, attn_mask=att_mask)\n",
    "        att_output = self.layer_normal(att_output + e)\n",
    "        att_output = att_output.permute(1, 0, 2) # att_output: [s_len, bs, embed] => [bs, s_len, embed]\n",
    "\n",
    "        x = self.ffn(att_output)\n",
    "        x = self.layer_normal(x + att_output)\n",
    "        x = self.pred(x)\n",
    "\n",
    "        return x.squeeze(-1), att_weight\n",
    "    \n",
    "    \n",
    "skills = joblib.load(\"/kaggle/input/riiid-sakt-model-dataset-public/skills.pkl.zip\")\n",
    "n_skill = len(skills)\n",
    "group = joblib.load(\"/kaggle/input/riiid-sakt-model-dataset-public/group.pkl.zip\")\n",
    "\n",
    "\n",
    "device = torch.device(\"cuda\" if torch.cuda.is_available() else \"cpu\")\n",
    "\n",
    "nn_model = SAKTModel(n_skill, embed_dim=128)\n",
    "try:\n",
    "    nn_model.load_state_dict(torch.load(\"/kaggle/input/riiid-sakt-model-dataset-public/sakt_model.pt\"))\n",
    "except:\n",
    "    nn_model.load_state_dict(torch.load(\"/kaggle/input/riiid-sakt-model-dataset-public/sakt_model.pt\", map_location='cpu'))\n",
    "nn_model.to(device)\n",
    "nn_model.eval()\n",
    "\n"
   ]
  },
  {
   "cell_type": "code",
   "execution_count": 66,
   "metadata": {
    "execution": {
     "iopub.execute_input": "2021-01-07T15:45:57.125506Z",
     "iopub.status.busy": "2021-01-07T15:45:57.123062Z",
     "iopub.status.idle": "2021-01-07T15:45:57.128003Z",
     "shell.execute_reply": "2021-01-07T15:45:57.128492Z"
    },
    "papermill": {
     "duration": 0.09249,
     "end_time": "2021-01-07T15:45:57.128646",
     "exception": false,
     "start_time": "2021-01-07T15:45:57.036156",
     "status": "completed"
    },
    "tags": []
   },
   "outputs": [],
   "source": [
    "class TestDataset(Dataset):\n",
    "    def __init__(self, samples, test_df, skills, max_seq=MAX_SEQ): \n",
    "        super(TestDataset, self).__init__()\n",
    "        self.samples = samples\n",
    "        self.user_ids = [x for x in test_df[\"user_id\"].unique()]\n",
    "        self.test_df = test_df\n",
    "        self.skills = skills\n",
    "        self.n_skill = len(skills)\n",
    "        self.max_seq = max_seq\n",
    "\n",
    "    def __len__(self):\n",
    "        return self.test_df.shape[0]\n",
    "\n",
    "    def __getitem__(self, index):\n",
    "        test_info = self.test_df.iloc[index]\n",
    "\n",
    "        user_id = test_info[\"user_id\"]\n",
    "        target_id = test_info[\"content_id\"]\n",
    "\n",
    "        q = np.zeros(self.max_seq, dtype=int)\n",
    "        qa = np.zeros(self.max_seq, dtype=int)\n",
    "\n",
    "        if user_id in self.samples.index:\n",
    "            q_, qa_ = self.samples[user_id]\n",
    "            \n",
    "            seq_len = len(q_)\n",
    "\n",
    "            if seq_len >= self.max_seq:\n",
    "                q = q_[-self.max_seq:]\n",
    "                qa = qa_[-self.max_seq:]\n",
    "            else:\n",
    "                q[-seq_len:] = q_\n",
    "                qa[-seq_len:] = qa_          \n",
    "        \n",
    "        x = np.zeros(self.max_seq-1, dtype=int)\n",
    "        x = q[1:].copy()\n",
    "        x += (qa[1:] == 1) * self.n_skill\n",
    "        \n",
    "        questions = np.append(q[2:], [target_id])\n",
    "        \n",
    "        return x, questions"
   ]
  },
  {
   "cell_type": "code",
   "execution_count": 67,
   "metadata": {
    "execution": {
     "iopub.execute_input": "2021-01-07T15:45:57.280393Z",
     "iopub.status.busy": "2021-01-07T15:45:57.279678Z",
     "iopub.status.idle": "2021-01-07T15:45:57.759651Z",
     "shell.execute_reply": "2021-01-07T15:45:57.760152Z"
    },
    "papermill": {
     "duration": 0.560325,
     "end_time": "2021-01-07T15:45:57.760537",
     "exception": false,
     "start_time": "2021-01-07T15:45:57.200212",
     "status": "completed"
    },
    "tags": []
   },
   "outputs": [],
   "source": [
    "user_sum_dict = user_agg['sum'].astype('int16').to_dict(defaultdict(int))\n",
    "user_count_dict = user_agg['count'].astype('int16').to_dict(defaultdict(int))\n"
   ]
  },
  {
   "cell_type": "code",
   "execution_count": 68,
   "metadata": {
    "execution": {
     "iopub.execute_input": "2021-01-07T15:45:57.908134Z",
     "iopub.status.busy": "2021-01-07T15:45:57.907441Z",
     "iopub.status.idle": "2021-01-07T15:45:58.625656Z",
     "shell.execute_reply": "2021-01-07T15:45:58.626234Z"
    },
    "papermill": {
     "duration": 0.793666,
     "end_time": "2021-01-07T15:45:58.626404",
     "exception": false,
     "start_time": "2021-01-07T15:45:57.832738",
     "status": "completed"
    },
    "tags": []
   },
   "outputs": [
    {
     "data": {
      "text/plain": [
       "0"
      ]
     },
     "execution_count": 68,
     "metadata": {},
     "output_type": "execute_result"
    }
   ],
   "source": [
    "\n",
    "\n",
    "del user_agg\n",
    "#del user_agg2\n",
    "#del content_agg\n",
    "gc.collect()\n",
    "\n",
    "task_container_sum_dict = task_container_agg['sum'].astype('int32').to_dict(defaultdict(int))\n",
    "task_container_count_dict = task_container_agg['count'].astype('int32').to_dict(defaultdict(int))\n",
    "task_container_std_dict = task_container_agg['var'].astype('float16').to_dict(defaultdict(int))\n",
    "\n",
    "explanation_sum_dict = explanation_agg['sum'].astype('int16').to_dict(defaultdict(int))\n",
    "explanation_count_dict = explanation_agg['count'].astype('int16').to_dict(defaultdict(int))\n",
    "#explanation_var_dict = explanation_agg['var'].astype('float16').to_dict(defaultdict(int))\n",
    "del task_container_agg\n",
    "del explanation_agg\n",
    "gc.collect()"
   ]
  },
  {
   "cell_type": "code",
   "execution_count": 69,
   "metadata": {
    "execution": {
     "iopub.execute_input": "2021-01-07T15:45:58.777693Z",
     "iopub.status.busy": "2021-01-07T15:45:58.776971Z",
     "iopub.status.idle": "2021-01-07T15:45:59.368437Z",
     "shell.execute_reply": "2021-01-07T15:45:59.368984Z"
    },
    "papermill": {
     "duration": 0.670765,
     "end_time": "2021-01-07T15:45:59.369142",
     "exception": false,
     "start_time": "2021-01-07T15:45:58.698377",
     "status": "completed"
    },
    "tags": []
   },
   "outputs": [
    {
     "data": {
      "text/plain": [
       "20"
      ]
     },
     "execution_count": 69,
     "metadata": {},
     "output_type": "execute_result"
    }
   ],
   "source": [
    "user_lecture_sum_dict = user_lecture_agg['sum'].astype('int16').to_dict(defaultdict(int))\n",
    "user_lecture_count_dict = user_lecture_agg['count'].astype('int16').to_dict(defaultdict(int))\n",
    "\n",
    "#lagtime_mean_dict = lagtime_agg['mean'].astype('int32').to_dict(defaultdict(int))\n",
    "#del prior_question_elapsed_time_agg\n",
    "del user_lecture_agg\n",
    "#del lagtime_agg\n",
    "gc.collect()"
   ]
  },
  {
   "cell_type": "code",
   "execution_count": 70,
   "metadata": {
    "execution": {
     "iopub.execute_input": "2021-01-07T15:45:59.529132Z",
     "iopub.status.busy": "2021-01-07T15:45:59.528429Z",
     "iopub.status.idle": "2021-01-07T15:46:00.720495Z",
     "shell.execute_reply": "2021-01-07T15:46:00.721288Z"
    },
    "papermill": {
     "duration": 1.275608,
     "end_time": "2021-01-07T15:46:00.721475",
     "exception": false,
     "start_time": "2021-01-07T15:45:59.445867",
     "status": "completed"
    },
    "tags": []
   },
   "outputs": [
    {
     "data": {
      "text/plain": [
       "20"
      ]
     },
     "execution_count": 70,
     "metadata": {},
     "output_type": "execute_result"
    }
   ],
   "source": [
    "max_timestamp_u_dict=max_timestamp_u.set_index('user_id').to_dict()\n",
    "max_timestamp_u_dict2=max_timestamp_u2.set_index('user_id').to_dict()\n",
    "max_timestamp_u_dict3=max_timestamp_u3.set_index('user_id').to_dict()\n",
    "user_prior_question_elapsed_time_dict=user_prior_question_elapsed_time.set_index('user_id').to_dict()\n",
    "#del question_elapsed_time_agg\n",
    "del max_timestamp_u\n",
    "del max_timestamp_u2\n",
    "del max_timestamp_u3\n",
    "del user_prior_question_elapsed_time\n",
    "gc.collect()"
   ]
  },
  {
   "cell_type": "code",
   "execution_count": 71,
   "metadata": {
    "execution": {
     "iopub.execute_input": "2021-01-07T15:46:00.919217Z",
     "iopub.status.busy": "2021-01-07T15:46:00.918087Z",
     "iopub.status.idle": "2021-01-07T15:46:21.372627Z",
     "shell.execute_reply": "2021-01-07T15:46:21.373382Z"
    },
    "papermill": {
     "duration": 20.53632,
     "end_time": "2021-01-07T15:46:21.373538",
     "exception": false,
     "start_time": "2021-01-07T15:46:00.837218",
     "status": "completed"
    },
    "tags": []
   },
   "outputs": [
    {
     "data": {
      "text/plain": [
       "0"
      ]
     },
     "execution_count": 71,
     "metadata": {},
     "output_type": "execute_result"
    }
   ],
   "source": [
    "attempt_no_sum_dict = attempt_no_agg['sum'].to_dict(defaultdict(int))\n",
    "\n",
    "del attempt_no_agg\n",
    "gc.collect()"
   ]
  },
  {
   "cell_type": "code",
   "execution_count": 72,
   "metadata": {
    "execution": {
     "iopub.execute_input": "2021-01-07T15:46:21.531687Z",
     "iopub.status.busy": "2021-01-07T15:46:21.530921Z",
     "iopub.status.idle": "2021-01-07T15:46:21.537046Z",
     "shell.execute_reply": "2021-01-07T15:46:21.537679Z"
    },
    "papermill": {
     "duration": 0.086941,
     "end_time": "2021-01-07T15:46:21.537848",
     "exception": false,
     "start_time": "2021-01-07T15:46:21.450907",
     "status": "completed"
    },
    "tags": []
   },
   "outputs": [],
   "source": [
    "def get_max_attempt(user_id,content_id):\n",
    "    k = (user_id,content_id)\n",
    "\n",
    "    if k in attempt_no_sum_dict.keys():\n",
    "        attempt_no_sum_dict[k]+=1\n",
    "        return attempt_no_sum_dict[k]\n",
    "\n",
    "    attempt_no_sum_dict[k] = 1\n",
    "    return attempt_no_sum_dict[k]"
   ]
  },
  {
   "cell_type": "code",
   "execution_count": 73,
   "metadata": {
    "execution": {
     "iopub.execute_input": "2021-01-07T15:46:21.697230Z",
     "iopub.status.busy": "2021-01-07T15:46:21.696564Z",
     "iopub.status.idle": "2021-01-07T15:46:21.701316Z",
     "shell.execute_reply": "2021-01-07T15:46:21.702101Z"
    },
    "papermill": {
     "duration": 0.086159,
     "end_time": "2021-01-07T15:46:21.702379",
     "exception": false,
     "start_time": "2021-01-07T15:46:21.616220",
     "status": "completed"
    },
    "tags": []
   },
   "outputs": [],
   "source": [
    "# model = lgb.Booster(model_file='../input/riiid-lgbm-starter/model.txt')\n",
    "env = riiideducation.make_env()"
   ]
  },
  {
   "cell_type": "code",
   "execution_count": 74,
   "metadata": {
    "execution": {
     "iopub.execute_input": "2021-01-07T15:46:21.854863Z",
     "iopub.status.busy": "2021-01-07T15:46:21.854127Z",
     "iopub.status.idle": "2021-01-07T15:46:21.858748Z",
     "shell.execute_reply": "2021-01-07T15:46:21.859411Z"
    },
    "papermill": {
     "duration": 0.083995,
     "end_time": "2021-01-07T15:46:21.859581",
     "exception": false,
     "start_time": "2021-01-07T15:46:21.775586",
     "status": "completed"
    },
    "tags": []
   },
   "outputs": [],
   "source": [
    "iter_test = env.iter_test()\n",
    "prior_test_df = None\n",
    "prev_test_df1 = None"
   ]
  },
  {
   "cell_type": "code",
   "execution_count": 75,
   "metadata": {
    "execution": {
     "iopub.execute_input": "2021-01-07T15:46:22.013709Z",
     "iopub.status.busy": "2021-01-07T15:46:22.013004Z",
     "iopub.status.idle": "2021-01-07T15:46:22.017613Z",
     "shell.execute_reply": "2021-01-07T15:46:22.018298Z"
    },
    "papermill": {
     "duration": 0.084519,
     "end_time": "2021-01-07T15:46:22.018475",
     "exception": false,
     "start_time": "2021-01-07T15:46:21.933956",
     "status": "completed"
    },
    "tags": []
   },
   "outputs": [],
   "source": [
    "N=[0.4,0.6]"
   ]
  },
  {
   "cell_type": "code",
   "execution_count": 76,
   "metadata": {
    "execution": {
     "iopub.execute_input": "2021-01-07T15:46:22.183106Z",
     "iopub.status.busy": "2021-01-07T15:46:22.182007Z",
     "iopub.status.idle": "2021-01-07T15:46:23.642776Z",
     "shell.execute_reply": "2021-01-07T15:46:23.641362Z"
    },
    "papermill": {
     "duration": 1.546724,
     "end_time": "2021-01-07T15:46:23.643009",
     "exception": false,
     "start_time": "2021-01-07T15:46:22.096285",
     "status": "completed"
    },
    "tags": []
   },
   "outputs": [
    {
     "name": "stdout",
     "output_type": "stream",
     "text": [
      "CPU times: user 1.45 s, sys: 92.6 ms, total: 1.54 s\n",
      "Wall time: 1.42 s\n"
     ]
    }
   ],
   "source": [
    "%%time\n",
    "\n",
    "for (test_df, sample_prediction_df) in iter_test:\n",
    "    test_df1=test_df.copy()\n",
    "    if (prev_test_df1 is not None):\n",
    "        prev_test_df1['answered_correctly'] = eval(test_df1['prior_group_answers_correct'].iloc[0])\n",
    "        prev_test_df1 = prev_test_df1[prev_test_df1.content_type_id == False]\n",
    "        \n",
    "        prev_group = prev_test_df1[['user_id', 'content_id', 'answered_correctly']].groupby('user_id').apply(lambda r: (\n",
    "            r['content_id'].values,\n",
    "            r['answered_correctly'].values))\n",
    "        for prev_user_id in prev_group.index:\n",
    "            if prev_user_id in group.index:\n",
    "                group[prev_user_id] = (\n",
    "                    np.append(group[prev_user_id][0], prev_group[prev_user_id][0])[-MAX_SEQ:], \n",
    "                    np.append(group[prev_user_id][1], prev_group[prev_user_id][1])[-MAX_SEQ:]\n",
    "                )\n",
    " \n",
    "            else:\n",
    "                group[prev_user_id] = (\n",
    "                    prev_group[prev_user_id][0], \n",
    "                    prev_group[prev_user_id][1]\n",
    "                )\n",
    "\n",
    "    prev_test_df1 = test_df1.copy()\n",
    "    \n",
    "    test_df1 = test_df1[test_df1.content_type_id == False]\n",
    "    test_dataset = TestDataset(group, test_df1, skills)\n",
    "    test_dataloader = DataLoader(test_dataset, batch_size=51200, shuffle=False)\n",
    "    \n",
    "    outs = []\n",
    "\n",
    "    for item in test_dataloader:\n",
    "        x = item[0].to(device).long()\n",
    "        target_id = item[1].to(device).long()\n",
    "        with torch.no_grad():\n",
    "            output, att_weight = nn_model(x, target_id)\n",
    "        outs.extend(torch.sigmoid(output)[:, -1].view(-1).data.cpu().numpy())\n",
    "        \n",
    "    #test_df1['answered_correctly'] = outs\n",
    "    \n",
    "    \n",
    "    \n",
    "    \n",
    "    ###for lgb\n",
    "    if prior_test_df is not None:\n",
    "        prior_test_df[target] = eval(test_df['prior_group_answers_correct'].iloc[0])\n",
    "        prior_test_df = prior_test_df[prior_test_df[target] != -1].reset_index(drop=True)\n",
    "        #prior_test_df = prior_test_df[prior_test_df[target] != -1]\n",
    "        prior_test_df['prior_question_had_explanation'].fillna(False, inplace=True)       \n",
    "        prior_test_df.prior_question_had_explanation=prior_test_df.prior_question_had_explanation.astype('int8')\n",
    "    \n",
    "        user_ids = prior_test_df['user_id'].values\n",
    "        #content_ids = prior_test_df['content_id'].values\n",
    "        #task_container_ids = prior_test_df['task_container_id'].values\n",
    "        #prior_question_had_explanations = prior_test_df['prior_question_had_explanation'].values\n",
    "        targets = prior_test_df[target].values        \n",
    "        \n",
    "        for user_id, answered_correctly in zip(user_ids,targets):\n",
    "            user_sum_dict[user_id] += answered_correctly\n",
    "            user_count_dict[user_id] += 1\n",
    "#             user_sum_dict2[user_id] += answered_correctly\n",
    "#             user_count_dict2[user_id] += 1   \n",
    "            \n",
    "\n",
    "    prior_test_df = test_df.copy() \n",
    "        \n",
    "    \n",
    "    question_len=len( test_df[test_df['content_type_id'] == 0])\n",
    "    test_df['prior_question_had_explanation'].fillna(False, inplace=True)\n",
    "    test_df.prior_question_had_explanation=test_df.prior_question_had_explanation.astype('int8')\n",
    "    test_df['prior_question_elapsed_time'].fillna(prior_question_elapsed_time_mean, inplace=True)\n",
    "    \n",
    "\n",
    "    user_lecture_sum = np.zeros(question_len, dtype=np.int16)\n",
    "    user_lecture_count = np.zeros(question_len, dtype=np.int16) \n",
    "    \n",
    "    user_sum = np.zeros(question_len, dtype=np.int16)\n",
    "    user_count = np.zeros(question_len, dtype=np.int16)\n",
    "#     user_sum2 = np.zeros(question_len, dtype=np.int16)\n",
    "#     user_count2 = np.zeros(question_len, dtype=np.int16)\n",
    "\n",
    "#     user_sum_dict_test=defaultdict(int)\n",
    "#     user_count_dict_test=defaultdict(int)\n",
    "\n",
    "    task_container_sum = np.zeros(question_len, dtype=np.int32)\n",
    "    task_container_count = np.zeros(question_len, dtype=np.int32)\n",
    "    task_container_std = np.zeros(question_len, dtype=np.float16)\n",
    "\n",
    "    explanation_sum = np.zeros(question_len, dtype=np.int32)\n",
    "    explanation_count = np.zeros(question_len, dtype=np.int32)\n",
    "    delta_prior_question_elapsed_time = np.zeros(question_len, dtype=np.int32)\n",
    "\n",
    "    attempt_no_count = np.zeros(question_len, dtype=np.int16)\n",
    "    lagtime = np.zeros(question_len, dtype=np.float32)\n",
    "    lagtime2 = np.zeros(question_len, dtype=np.float32)\n",
    "    lagtime3 = np.zeros(question_len, dtype=np.float32)\n",
    "    #lagtime_means = np.zeros(question_len, dtype=np.int32)\n",
    "    #\n",
    "   \n",
    "    i=0\n",
    "    for j, (user_id,prior_question_had_explanation,content_type_id,prior_question_elapsed_time,timestamp, content_id,task_container_id) in enumerate(zip(test_df['user_id'].values,test_df['prior_question_had_explanation'].values,test_df['content_type_id'].values,test_df['prior_question_elapsed_time'].values,test_df['timestamp'].values, test_df['content_id'].values, test_df['task_container_id'].values)):\n",
    "        \n",
    "         #\n",
    "        user_lecture_sum_dict[user_id] += content_type_id\n",
    "        user_lecture_count_dict[user_id] += 1\n",
    "        if(content_type_id==1):#\n",
    "            x=1\n",
    "#             if(len(user_lecture_stats_part[user_lecture_stats_part.user_id==user_id])==0):\n",
    "#                 user_lecture_stats_part = user_lecture_stats_part.append([{'user_id':user_id}], ignore_index=True)\n",
    "#                 user_lecture_stats_part.fillna(0, inplace=True)\n",
    "#                 user_lecture_stats_part.loc[user_lecture_stats_part.user_id==user_id,part_lectures_columns + types_of_lectures_columns]+=lectures_df[lectures_df.lecture_id==content_id][part_lectures_columns + types_of_lectures_columns].values\n",
    "#             else:\n",
    "#                 user_lecture_stats_part.loc[user_lecture_stats_part.user_id==user_id,part_lectures_columns + types_of_lectures_columns]+=lectures_df[lectures_df.lecture_id==content_id][part_lectures_columns + types_of_lectures_columns].values\n",
    "        if(content_type_id==0):#   \n",
    "            user_lecture_sum[i] = user_lecture_sum_dict[user_id]\n",
    "            user_lecture_count[i] = user_lecture_count_dict[user_id]\n",
    "                \n",
    "            user_sum[i] = user_sum_dict[user_id]\n",
    "            user_count[i] = user_count_dict[user_id]\n",
    "#             user_sum2[i] = user_sum_dict2[user_id]\n",
    "#             user_count2[i] = user_count_dict2[user_id]\n",
    "    #         content_sum[i] = content_sum_dict[content_id]\n",
    "    #         content_count[i] = content_count_dict[content_id]\n",
    "            task_container_sum[i] = task_container_sum_dict[task_container_id]\n",
    "            task_container_count[i] = task_container_count_dict[task_container_id]\n",
    "            task_container_std[i]=task_container_std_dict[task_container_id]\n",
    "\n",
    "            explanation_sum_dict[user_id] += prior_question_had_explanation\n",
    "            explanation_count_dict[user_id] += 1\n",
    "            explanation_sum[i] = explanation_sum_dict[user_id]\n",
    "            explanation_count[i] = explanation_count_dict[user_id]\n",
    "\n",
    "            if user_id in max_timestamp_u_dict['max_time_stamp'].keys():\n",
    "                lagtime[i]=timestamp-max_timestamp_u_dict['max_time_stamp'][user_id]\n",
    "                if(max_timestamp_u_dict2['max_time_stamp2'][user_id]==lagtime_mean2):#\n",
    "                    lagtime2[i]=lagtime_mean2\n",
    "                    lagtime3[i]=lagtime_mean3\n",
    "                    #max_timestamp_u_dict3['max_time_stamp3'].update({user_id:lagtime_mean3})\n",
    "                else:\n",
    "                    lagtime2[i]=timestamp-max_timestamp_u_dict2['max_time_stamp2'][user_id]\n",
    "                    if(max_timestamp_u_dict3['max_time_stamp3'][user_id]==lagtime_mean3):\n",
    "                        lagtime3[i]=lagtime_mean3 #\n",
    "                    else:\n",
    "                        lagtime3[i]=timestamp-max_timestamp_u_dict3['max_time_stamp3'][user_id]\n",
    "                    \n",
    "                    max_timestamp_u_dict3['max_time_stamp3'][user_id]=max_timestamp_u_dict2['max_time_stamp2'][user_id]\n",
    "                        \n",
    "                max_timestamp_u_dict2['max_time_stamp2'][user_id]=max_timestamp_u_dict['max_time_stamp'][user_id]\n",
    "                max_timestamp_u_dict['max_time_stamp'][user_id]=timestamp\n",
    "#                 lagtime_means[i]=(lagtime_mean_dict[user_id]+lagtime[i])/2\n",
    "#                 lagtime_mean_dict[user_id]=lagtime_means[i]\n",
    "            else:\n",
    "                lagtime[i]=lagtime_mean\n",
    "                max_timestamp_u_dict['max_time_stamp'].update({user_id:timestamp})\n",
    "                lagtime2[i]=lagtime_mean2#\n",
    "                max_timestamp_u_dict2['max_time_stamp2'].update({user_id:lagtime_mean2})\n",
    "                lagtime3[i]=lagtime_mean3#\n",
    "                max_timestamp_u_dict3['max_time_stamp3'].update({user_id:lagtime_mean3})\n",
    "#                 lagtime_mean_dict.update({user_id:lagtime_mean})\n",
    "#                 lagtime_means[i]=(lagtime_mean_dict[user_id]+lagtime[i])/2\n",
    "\n",
    "            if user_id in user_prior_question_elapsed_time_dict['prior_question_elapsed_time'].keys():            \n",
    "                delta_prior_question_elapsed_time[i]=prior_question_elapsed_time-user_prior_question_elapsed_time_dict['prior_question_elapsed_time'][user_id]\n",
    "                user_prior_question_elapsed_time_dict['prior_question_elapsed_time'][user_id]=prior_question_elapsed_time\n",
    "            else:           \n",
    "                delta_prior_question_elapsed_time[i]=delta_prior_question_elapsed_time_mean    \n",
    "                user_prior_question_elapsed_time_dict['prior_question_elapsed_time'].update({user_id:prior_question_elapsed_time})\n",
    "            i=i+1 \n",
    "\n",
    "\n",
    "        \n",
    "    test_df = test_df[test_df['content_type_id'] == 0].reset_index(drop=True)\n",
    "    #test_df = test_df[test_df['content_type_id'] == 0]\n",
    "    #right_index=True\n",
    "    #test_df = pd.merge(test_df, questions_df, on='content_id', how='left',right_index=True)    \n",
    "    #test_df = pd.concat([test_df.reset_index(drop=True), questions_df.reindex(test_df['content_id'].values).reset_index(drop=True)], axis=1)\n",
    "    test_df=test_df.merge(questions_df.loc[questions_df.index.isin(test_df['content_id'])],\n",
    "                  how='left', on='content_id', right_index=True)\n",
    "    \n",
    "    #test_df = pd.merge(test_df, user_lecture_stats_part, on=['user_id'], how=\"left\",right_index=True)\n",
    "    #test_df = pd.concat([test_df.reset_index(drop=True), user_lecture_stats_part.reindex(test_df['user_id'].values).reset_index(drop=True)], axis=1)\n",
    "#     test_df=test_df.merge(user_lecture_stats_part.loc[user_lecture_stats_part.index.isin(test_df['user_id'])],\n",
    "#                   how='left', on='user_id', right_index=True)\n",
    " \n",
    "    test_df['user_lecture_lv'] = user_lecture_sum / user_lecture_count\n",
    "    test_df['user_lecture_sum'] = user_lecture_sum\n",
    "    \n",
    "    test_df['user_interaction_count'] = user_lecture_count\n",
    "    test_df['user_interaction_timestamp_mean'] = test_df['timestamp']/user_lecture_count\n",
    "    \n",
    "    test_df['user_correctness'] = user_sum / user_count\n",
    "    test_df['user_uncorrect_count'] =user_count-user_sum\n",
    "    test_df['user_correct_count'] =user_sum\n",
    "    #test_df['user_answer_count'] =user_count\n",
    "    \n",
    "#     test_df['user_correctness2'] = user_sum2 / user_count2\n",
    "#     test_df['user_uncorrect_count2'] =user_count2-user_sum2\n",
    "#     test_df['user_correct_count2'] =user_sum2\n",
    "    #test_df['user_answer_count2'] =user_count2\n",
    "    \n",
    "    #    \n",
    "    test_df['task_container_correctness'] = task_container_sum / task_container_count\n",
    "    test_df['task_container_cor_count'] = task_container_sum \n",
    "    test_df['task_container_uncor_count'] =task_container_count-task_container_sum \n",
    "    test_df['task_container_std'] = task_container_std \n",
    "    #test_df['content_task_mean'] = content_task_mean \n",
    "    \n",
    "    test_df['explanation_mean'] = explanation_sum / explanation_count\n",
    "    test_df['explanation_true_count'] = explanation_sum\n",
    "    test_df['explanation_false_count'] = explanation_count-explanation_sum \n",
    "    \n",
    "    #\n",
    "    test_df['delta_prior_question_elapsed_time'] = delta_prior_question_elapsed_time \n",
    "    \n",
    "  \n",
    " \n",
    "    test_df[\"attempt_no\"] = test_df[[\"user_id\", \"content_id\"]].apply(lambda row: get_max_attempt(row[\"user_id\"], row[\"content_id\"]), axis=1)\n",
    "    test_df[\"lagtime\"]=lagtime\n",
    "    test_df[\"lagtime2\"]=lagtime2\n",
    "    test_df[\"lagtime3\"]=lagtime3\n",
    "    #test_df[\"lagtime_mean\"]=lagtime_means\n",
    "\n",
    "    \n",
    "\n",
    "    test_df['timestamp']=test_df['timestamp']/(1000*3600)\n",
    "    test_df.timestamp=test_df.timestamp.astype('float16')\n",
    "    test_df['lagtime']=test_df['lagtime']/(1000*3600)\n",
    "    test_df.lagtime=test_df.lagtime.astype('float32')\n",
    "    test_df['lagtime2']=test_df['lagtime2']/(1000*3600)\n",
    "    test_df.lagtime2=test_df.lagtime2.astype('float32')\n",
    "    test_df['lagtime3']=test_df['lagtime3']/(1000*3600)\n",
    "    test_df.lagtime3=test_df.lagtime3.astype('float32')\n",
    "    test_df['user_interaction_timestamp_mean']=test_df['user_interaction_timestamp_mean']/(1000*3600)\n",
    "    test_df.user_interaction_timestamp_mean=test_df.user_interaction_timestamp_mean.astype('float32')\n",
    "    \n",
    "    test_df['user_correctness'].fillna(0.67, inplace=True)\n",
    "    #test_df['user_correctness2'].fillna(0.67, inplace=True)\n",
    "    #\n",
    "    #test_df = test_df.astype(features_dict)\n",
    "\n",
    "    sub_preds = np.zeros(test_df.shape[0])\n",
    "    for i, model in enumerate(clfs, 1):\n",
    "        test_preds  = model.predict(test_df[features])\n",
    "        sub_preds += test_preds\n",
    "    o2=sub_preds / len(clfs)\n",
    "    test_df[target]=0.6*np.array(outs)+0.4*np.array(o2)\n",
    "#     if(flag_lgbm):\n",
    "#         test_df[target] = model.predict(test_df[features])\n",
    "#     else:\n",
    "#         test_df[target] = model.predict(test_df[features].values)\n",
    "    env.predict(test_df[['row_id', target]])"
   ]
  }
 ],
 "metadata": {
  "kernelspec": {
   "display_name": "Python 3",
   "language": "python",
   "name": "python3"
  },
  "language_info": {
   "codemirror_mode": {
    "name": "ipython",
    "version": 3
   },
   "file_extension": ".py",
   "mimetype": "text/x-python",
   "name": "python",
   "nbconvert_exporter": "python",
   "pygments_lexer": "ipython3",
   "version": "3.7.6"
  },
  "papermill": {
   "duration": 5807.234832,
   "end_time": "2021-01-07T15:46:24.167067",
   "environment_variables": {},
   "exception": null,
   "input_path": "__notebook__.ipynb",
   "output_path": "__notebook__.ipynb",
   "parameters": {},
   "start_time": "2021-01-07T14:09:36.932235",
   "version": "2.1.0"
  }
 },
 "nbformat": 4,
 "nbformat_minor": 4
}
